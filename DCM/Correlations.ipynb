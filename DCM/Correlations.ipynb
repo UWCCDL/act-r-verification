{
 "cells": [
  {
   "cell_type": "markdown",
   "metadata": {},
   "source": [
    "# Frobenius Distance"
   ]
  },
  {
   "cell_type": "code",
   "execution_count": 33,
   "metadata": {},
   "outputs": [],
   "source": [
    "import numpy as np\n",
    "from scipy.spatial.distance import cdist"
   ]
  },
  {
   "cell_type": "code",
   "execution_count": 34,
   "metadata": {},
   "outputs": [],
   "source": [
    "lovett_matrices = ['lovett_congruent_values.txt', 'lovett_incongruent_values.txt', 'lovett_neutral_values.txt']\n",
    "altmann_matrices = ['altmann_congruent_values.txt', 'altmann_incongruent_values.txt', 'altmann_neutral_values.txt']\n",
    "real = [\"A.txt\", \"B2_congruent.txt\", \"B3_incongruent.txt\", \"B1_neutral.txt\"]"
   ]
  },
  {
   "cell_type": "code",
   "execution_count": 35,
   "metadata": {},
   "outputs": [],
   "source": [
    "L = []\n",
    "A = []\n",
    "R = []"
   ]
  },
  {
   "cell_type": "code",
   "execution_count": 36,
   "metadata": {},
   "outputs": [],
   "source": [
    "for i in lovett_matrices:\n",
    "    M = np.loadtxt(i, delimiter=\",\")\n",
    "    for i in range(M.shape[0]):\n",
    "        M[i, i] = 0\n",
    "    L.append(M)"
   ]
  },
  {
   "cell_type": "code",
   "execution_count": 37,
   "metadata": {},
   "outputs": [],
   "source": [
    "for i in altmann_matrices:\n",
    "    M = np.loadtxt(i, delimiter=\",\")\n",
    "    for i in range(M.shape[0]):\n",
    "        M[i, i] = 0\n",
    "    A.append(M)"
   ]
  },
  {
   "cell_type": "code",
   "execution_count": 52,
   "metadata": {},
   "outputs": [],
   "source": [
    "a = np.loadtxt(\"A.txt\", delimiter=',')\n",
    "b_2 = np.loadtxt(\"B2_congruent.txt\", delimiter=',')  \n",
    "b_3 = np.loadtxt(\"B3_incongruent.txt\", delimiter=',')  \n",
    "b_1 = np.loadtxt(\"B1_neutral.txt\", delimiter=',')  "
   ]
  },
  {
   "cell_type": "code",
   "execution_count": 53,
   "metadata": {},
   "outputs": [],
   "source": [
    "R.append(a + a * b_2)\n",
    "R.append(a + a * b_3)\n",
    "R.append(a + a * b_1)"
   ]
  },
  {
   "cell_type": "code",
   "execution_count": 54,
   "metadata": {},
   "outputs": [],
   "source": [
    "for i in range(3):\n",
    "    r = R[i]\n",
    "    r = r - np.min(r)\n",
    "    mask = np.ones((5,5)) - np.eye(5,5) \n",
    "    r = r * mask\n",
    "    R[i] = r"
   ]
  },
  {
   "cell_type": "markdown",
   "metadata": {},
   "source": [
    "### Congruent"
   ]
  },
  {
   "cell_type": "code",
   "execution_count": 55,
   "metadata": {},
   "outputs": [
    {
     "data": {
      "text/plain": [
       "8.13056466834742"
      ]
     },
     "execution_count": 55,
     "metadata": {},
     "output_type": "execute_result"
    }
   ],
   "source": [
    "# Lovett vs Real\n",
    "np.linalg.norm(L[0] - R[0], ord='fro')"
   ]
  },
  {
   "cell_type": "code",
   "execution_count": 56,
   "metadata": {},
   "outputs": [
    {
     "data": {
      "text/plain": [
       "3.2544433997382716"
      ]
     },
     "execution_count": 56,
     "metadata": {},
     "output_type": "execute_result"
    }
   ],
   "source": [
    "# lovett vs altmann\n",
    "np.linalg.norm(L[0] - A[0], ord='fro')"
   ]
  },
  {
   "cell_type": "code",
   "execution_count": 57,
   "metadata": {},
   "outputs": [
    {
     "data": {
      "text/plain": [
       "8.370282806424692"
      ]
     },
     "execution_count": 57,
     "metadata": {},
     "output_type": "execute_result"
    }
   ],
   "source": [
    "# real vs altmann\n",
    "np.linalg.norm(R[0] - A[0], ord='fro')"
   ]
  },
  {
   "cell_type": "markdown",
   "metadata": {},
   "source": [
    "### Incongruent"
   ]
  },
  {
   "cell_type": "code",
   "execution_count": 58,
   "metadata": {},
   "outputs": [
    {
     "data": {
      "text/plain": [
       "9.439698310872627"
      ]
     },
     "execution_count": 58,
     "metadata": {},
     "output_type": "execute_result"
    }
   ],
   "source": [
    "# Lovett vs Real\n",
    "np.linalg.norm(L[1] - R[1], ord='fro')"
   ]
  },
  {
   "cell_type": "code",
   "execution_count": 59,
   "metadata": {},
   "outputs": [
    {
     "data": {
      "text/plain": [
       "3.4647544689342706"
      ]
     },
     "execution_count": 59,
     "metadata": {},
     "output_type": "execute_result"
    }
   ],
   "source": [
    "# lovett vs altmann\n",
    "np.linalg.norm(L[1] - A[1], ord='fro')"
   ]
  },
  {
   "cell_type": "code",
   "execution_count": 60,
   "metadata": {},
   "outputs": [
    {
     "data": {
      "text/plain": [
       "9.382905053262595"
      ]
     },
     "execution_count": 60,
     "metadata": {},
     "output_type": "execute_result"
    }
   ],
   "source": [
    "# real vs altmann\n",
    "np.linalg.norm(R[1] - A[1], ord='fro')"
   ]
  },
  {
   "cell_type": "markdown",
   "metadata": {},
   "source": [
    "### Neutral"
   ]
  },
  {
   "cell_type": "code",
   "execution_count": 61,
   "metadata": {},
   "outputs": [
    {
     "data": {
      "text/plain": [
       "6.289448845721096"
      ]
     },
     "execution_count": 61,
     "metadata": {},
     "output_type": "execute_result"
    }
   ],
   "source": [
    "# Lovett vs Real\n",
    "np.linalg.norm(L[2] - R[2], ord='fro')"
   ]
  },
  {
   "cell_type": "code",
   "execution_count": 62,
   "metadata": {},
   "outputs": [
    {
     "data": {
      "text/plain": [
       "3.948859307445632"
      ]
     },
     "execution_count": 62,
     "metadata": {},
     "output_type": "execute_result"
    }
   ],
   "source": [
    "# lovett vs altmann\n",
    "np.linalg.norm(L[2] - A[2], ord='fro')"
   ]
  },
  {
   "cell_type": "code",
   "execution_count": 63,
   "metadata": {},
   "outputs": [
    {
     "data": {
      "text/plain": [
       "6.642409173255019"
      ]
     },
     "execution_count": 63,
     "metadata": {},
     "output_type": "execute_result"
    }
   ],
   "source": [
    "# real vs altmann\n",
    "np.linalg.norm(R[2] - A[2], ord='fro')"
   ]
  },
  {
   "cell_type": "markdown",
   "metadata": {},
   "source": [
    "### numpy to txt"
   ]
  },
  {
   "cell_type": "code",
   "execution_count": 64,
   "metadata": {},
   "outputs": [],
   "source": [
    "np.savetxt('lovett_cong.txt', L[0])\n",
    "np.savetxt('lovett_incong.txt', L[1])\n",
    "np.savetxt('lovett_neu.txt', L[2])\n",
    "np.savetxt('altmann_cong.txt', A[0])\n",
    "np.savetxt('altmann_incong.txt', A[1])\n",
    "np.savetxt('altmann_neu.txt', A[2])\n",
    "np.savetxt('real_cong.txt', R[0])\n",
    "np.savetxt('real_incong.txt', R[1])\n",
    "np.savetxt('real_neu.txt', R[2])"
   ]
  },
  {
   "cell_type": "code",
   "execution_count": null,
   "metadata": {},
   "outputs": [],
   "source": []
  }
 ],
 "metadata": {
  "kernelspec": {
   "display_name": "Python 3",
   "language": "python",
   "name": "python3"
  },
  "language_info": {
   "codemirror_mode": {
    "name": "ipython",
    "version": 3
   },
   "file_extension": ".py",
   "mimetype": "text/x-python",
   "name": "python",
   "nbconvert_exporter": "python",
   "pygments_lexer": "ipython3",
   "version": "3.6.6"
  }
 },
 "nbformat": 4,
 "nbformat_minor": 2
}
