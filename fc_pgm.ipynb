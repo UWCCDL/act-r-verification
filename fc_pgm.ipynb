{
 "cells": [
  {
   "cell_type": "markdown",
   "metadata": {},
   "source": [
    "# Functional Connectivity, PGM"
   ]
  },
  {
   "cell_type": "code",
   "execution_count": 65,
   "metadata": {},
   "outputs": [],
   "source": [
    "import pandas as pd\n",
    "import numpy as np"
   ]
  },
  {
   "cell_type": "code",
   "execution_count": 66,
   "metadata": {},
   "outputs": [],
   "source": [
    "df = pd.read_csv(\"sub-001.csv\")"
   ]
  },
  {
   "cell_type": "code",
   "execution_count": 67,
   "metadata": {},
   "outputs": [],
   "source": [
    "X = df.values"
   ]
  },
  {
   "cell_type": "code",
   "execution_count": 68,
   "metadata": {},
   "outputs": [
    {
     "data": {
      "text/plain": [
       "(369, 8)"
      ]
     },
     "execution_count": 68,
     "metadata": {},
     "output_type": "execute_result"
    }
   ],
   "source": [
    "X.shape"
   ]
  },
  {
   "cell_type": "code",
   "execution_count": 69,
   "metadata": {},
   "outputs": [],
   "source": [
    "df['right_imaginal'] = -1 * df.right_imaginal"
   ]
  },
  {
   "cell_type": "code",
   "execution_count": 70,
   "metadata": {},
   "outputs": [],
   "source": [
    "import matplotlib.pyplot as plt"
   ]
  },
  {
   "cell_type": "code",
   "execution_count": 71,
   "metadata": {},
   "outputs": [
    {
     "data": {
      "text/plain": [
       "Index(['left_manual', 'right_retrieval', 'right_imaginal', 'left_visual',\n",
       "       'left_imaginal', 'right_manual', 'left_retrieval', 'right_visual'],\n",
       "      dtype='object')"
      ]
     },
     "execution_count": 71,
     "metadata": {},
     "output_type": "execute_result"
    }
   ],
   "source": [
    "df.columns"
   ]
  },
  {
   "cell_type": "code",
   "execution_count": 53,
   "metadata": {},
   "outputs": [
    {
     "data": {
      "text/html": [
       "<div>\n",
       "<style scoped>\n",
       "    .dataframe tbody tr th:only-of-type {\n",
       "        vertical-align: middle;\n",
       "    }\n",
       "\n",
       "    .dataframe tbody tr th {\n",
       "        vertical-align: top;\n",
       "    }\n",
       "\n",
       "    .dataframe thead th {\n",
       "        text-align: right;\n",
       "    }\n",
       "</style>\n",
       "<table border=\"1\" class=\"dataframe\">\n",
       "  <thead>\n",
       "    <tr style=\"text-align: right;\">\n",
       "      <th></th>\n",
       "      <th>left_manual</th>\n",
       "      <th>right_retrieval</th>\n",
       "      <th>right_imaginal</th>\n",
       "      <th>left_visual</th>\n",
       "      <th>left_imaginal</th>\n",
       "      <th>right_manual</th>\n",
       "      <th>left_retrieval</th>\n",
       "      <th>right_visual</th>\n",
       "    </tr>\n",
       "  </thead>\n",
       "  <tbody>\n",
       "    <tr>\n",
       "      <th>left_manual</th>\n",
       "      <td>1.000000</td>\n",
       "      <td>0.493463</td>\n",
       "      <td>0.496722</td>\n",
       "      <td>0.278698</td>\n",
       "      <td>0.284971</td>\n",
       "      <td>0.531373</td>\n",
       "      <td>0.386449</td>\n",
       "      <td>0.470156</td>\n",
       "    </tr>\n",
       "    <tr>\n",
       "      <th>right_retrieval</th>\n",
       "      <td>0.493463</td>\n",
       "      <td>1.000000</td>\n",
       "      <td>0.661564</td>\n",
       "      <td>0.333609</td>\n",
       "      <td>0.393825</td>\n",
       "      <td>0.460432</td>\n",
       "      <td>0.647068</td>\n",
       "      <td>0.654568</td>\n",
       "    </tr>\n",
       "    <tr>\n",
       "      <th>right_imaginal</th>\n",
       "      <td>0.496722</td>\n",
       "      <td>0.661564</td>\n",
       "      <td>1.000000</td>\n",
       "      <td>0.481357</td>\n",
       "      <td>0.538980</td>\n",
       "      <td>0.373501</td>\n",
       "      <td>0.673901</td>\n",
       "      <td>0.704501</td>\n",
       "    </tr>\n",
       "    <tr>\n",
       "      <th>left_visual</th>\n",
       "      <td>0.278698</td>\n",
       "      <td>0.333609</td>\n",
       "      <td>0.481357</td>\n",
       "      <td>1.000000</td>\n",
       "      <td>0.552824</td>\n",
       "      <td>0.302595</td>\n",
       "      <td>0.445996</td>\n",
       "      <td>0.513309</td>\n",
       "    </tr>\n",
       "    <tr>\n",
       "      <th>left_imaginal</th>\n",
       "      <td>0.284971</td>\n",
       "      <td>0.393825</td>\n",
       "      <td>0.538980</td>\n",
       "      <td>0.552824</td>\n",
       "      <td>1.000000</td>\n",
       "      <td>0.252763</td>\n",
       "      <td>0.413903</td>\n",
       "      <td>0.509025</td>\n",
       "    </tr>\n",
       "    <tr>\n",
       "      <th>right_manual</th>\n",
       "      <td>0.531373</td>\n",
       "      <td>0.460432</td>\n",
       "      <td>0.373501</td>\n",
       "      <td>0.302595</td>\n",
       "      <td>0.252763</td>\n",
       "      <td>1.000000</td>\n",
       "      <td>0.392132</td>\n",
       "      <td>0.448792</td>\n",
       "    </tr>\n",
       "    <tr>\n",
       "      <th>left_retrieval</th>\n",
       "      <td>0.386449</td>\n",
       "      <td>0.647068</td>\n",
       "      <td>0.673901</td>\n",
       "      <td>0.445996</td>\n",
       "      <td>0.413903</td>\n",
       "      <td>0.392132</td>\n",
       "      <td>1.000000</td>\n",
       "      <td>0.493948</td>\n",
       "    </tr>\n",
       "    <tr>\n",
       "      <th>right_visual</th>\n",
       "      <td>0.470156</td>\n",
       "      <td>0.654568</td>\n",
       "      <td>0.704501</td>\n",
       "      <td>0.513309</td>\n",
       "      <td>0.509025</td>\n",
       "      <td>0.448792</td>\n",
       "      <td>0.493948</td>\n",
       "      <td>1.000000</td>\n",
       "    </tr>\n",
       "  </tbody>\n",
       "</table>\n",
       "</div>"
      ],
      "text/plain": [
       "                 left_manual  right_retrieval  right_imaginal  left_visual  \\\n",
       "left_manual         1.000000         0.493463        0.496722     0.278698   \n",
       "right_retrieval     0.493463         1.000000        0.661564     0.333609   \n",
       "right_imaginal      0.496722         0.661564        1.000000     0.481357   \n",
       "left_visual         0.278698         0.333609        0.481357     1.000000   \n",
       "left_imaginal       0.284971         0.393825        0.538980     0.552824   \n",
       "right_manual        0.531373         0.460432        0.373501     0.302595   \n",
       "left_retrieval      0.386449         0.647068        0.673901     0.445996   \n",
       "right_visual        0.470156         0.654568        0.704501     0.513309   \n",
       "\n",
       "                 left_imaginal  right_manual  left_retrieval  right_visual  \n",
       "left_manual           0.284971      0.531373        0.386449      0.470156  \n",
       "right_retrieval       0.393825      0.460432        0.647068      0.654568  \n",
       "right_imaginal        0.538980      0.373501        0.673901      0.704501  \n",
       "left_visual           0.552824      0.302595        0.445996      0.513309  \n",
       "left_imaginal         1.000000      0.252763        0.413903      0.509025  \n",
       "right_manual          0.252763      1.000000        0.392132      0.448792  \n",
       "left_retrieval        0.413903      0.392132        1.000000      0.493948  \n",
       "right_visual          0.509025      0.448792        0.493948      1.000000  "
      ]
     },
     "execution_count": 53,
     "metadata": {},
     "output_type": "execute_result"
    }
   ],
   "source": [
    "df.corr()"
   ]
  },
  {
   "cell_type": "code",
   "execution_count": 62,
   "metadata": {},
   "outputs": [],
   "source": [
    "labels = list(df.columns)"
   ]
  },
  {
   "cell_type": "code",
   "execution_count": 64,
   "metadata": {},
   "outputs": [
    {
     "data": {
      "text/plain": [
       "[Text(0,0,''),\n",
       " Text(0,0,'left_manual'),\n",
       " Text(0,0,'right_retrieval'),\n",
       " Text(0,0,'right_imaginal'),\n",
       " Text(0,0,'left_visual'),\n",
       " Text(0,0,'left_imaginal'),\n",
       " Text(0,0,'right_manual'),\n",
       " Text(0,0,'left_retrieval'),\n",
       " Text(0,0,'right_visual')]"
      ]
     },
     "execution_count": 64,
     "metadata": {},
     "output_type": "execute_result"
    },
    {
     "data": {
      "image/png": "[encoded data removed]",
      "text/plain": [
       "<Figure size 720x720 with 2 Axes>"
      ]
     },
     "metadata": {},
     "output_type": "display_data"
    }
   ],
   "source": [
    "fig = plt.figure()\n",
    "ax = fig.add_subplot(111)\n",
    "cax = ax.matshow(df.corr())\n",
    "fig.colorbar(cax)\n",
    "fig.set_size_inches(10, 10)\n",
    "ax.set_xticklabels([''] + labels)\n",
    "ax.set_yticklabels([''] + labels)"
   ]
  },
  {
   "cell_type": "code",
   "execution_count": 30,
   "metadata": {},
   "outputs": [],
   "source": [
    "from nilearn.connectome import ConnectivityMeasure"
   ]
  },
  {
   "cell_type": "code",
   "execution_count": 31,
   "metadata": {},
   "outputs": [],
   "source": [
    "connectome_measure = ConnectivityMeasure(kind='correlation')"
   ]
  },
  {
   "cell_type": "code",
   "execution_count": 37,
   "metadata": {},
   "outputs": [],
   "source": [
    "X = X.reshape(1, -1, 8)"
   ]
  },
  {
   "cell_type": "code",
   "execution_count": 38,
   "metadata": {},
   "outputs": [],
   "source": [
    "correlation = connectome_measure.fit_transform(X)"
   ]
  },
  {
   "cell_type": "code",
   "execution_count": 40,
   "metadata": {},
   "outputs": [
    {
     "data": {
      "text/plain": [
       "(1, 8, 8)"
      ]
     },
     "execution_count": 40,
     "metadata": {},
     "output_type": "execute_result"
    }
   ],
   "source": [
    "correlation.shape"
   ]
  },
  {
   "cell_type": "code",
   "execution_count": 41,
   "metadata": {},
   "outputs": [
    {
     "data": {
      "image/png": "[encoded data removed]",
      "text/plain": [
       "<Figure size 720x720 with 2 Axes>"
      ]
     },
     "metadata": {},
     "output_type": "display_data"
    }
   ],
   "source": [
    "fig = plt.figure()\n",
    "ax = fig.add_subplot(111)\n",
    "cax = ax.matshow(correlation[0])\n",
    "fig.colorbar(cax)\n",
    "fig.set_size_inches(10, 10)"
   ]
  },
  {
   "cell_type": "code",
   "execution_count": null,
   "metadata": {},
   "outputs": [],
   "source": []
  }
 ],
 "metadata": {
  "kernelspec": {
   "display_name": "Python 3",
   "language": "python",
   "name": "python3"
  },
  "language_info": {
   "codemirror_mode": {
    "name": "ipython",
    "version": 3
   },
   "file_extension": ".py",
   "mimetype": "text/x-python",
   "name": "python",
   "nbconvert_exporter": "python",
   "pygments_lexer": "ipython3",
   "version": "3.6.4"
  }
 },
 "nbformat": 4,
 "nbformat_minor": 2
}
