{
 "cells": [
  {
   "cell_type": "code",
   "execution_count": 1,
   "metadata": {},
   "outputs": [],
   "source": [
    "import os\n",
    "import pandas as pd\n",
    "import numpy as np\n",
    "from nilearn.connectome import ConnectivityMeasure\n",
    "import matplotlib.pyplot as plt"
   ]
  },
  {
   "cell_type": "markdown",
   "metadata": {},
   "source": [
    "## Code from Jakevdp"
   ]
  },
  {
   "cell_type": "code",
   "execution_count": 14,
   "metadata": {},
   "outputs": [],
   "source": [
    "from matplotlib.patches import Ellipse\n",
    "\n",
    "def draw_ellipse(position, covariance, ax=None, **kwargs):\n",
    "    \"\"\"Draw an ellipse with a given position and covariance\"\"\"\n",
    "    ax = ax or plt.gca()\n",
    "    \n",
    "    # Convert covariance to principal axes\n",
    "    if covariance.shape == (2, 2):\n",
    "        U, s, Vt = np.linalg.svd(covariance)\n",
    "        angle = np.degrees(np.arctan2(U[1, 0], U[0, 0]))\n",
    "        width, height = 2 * np.sqrt(s)\n",
    "    else:\n",
    "        angle = 0\n",
    "        width, height = 2 * np.sqrt(covariance)\n",
    "    \n",
    "    # Draw the Ellipse\n",
    "    for nsig in range(1, 4):\n",
    "        ax.add_patch(Ellipse(position, nsig * width, nsig * height,\n",
    "                             angle, **kwargs))\n",
    "        \n",
    "def plot_gmm(gmm, X, label=True, ax=None):\n",
    "    fig = plt.figure()\n",
    "    ax = ax or plt.gca()\n",
    "    labels = gmm.fit(X).predict(X)\n",
    "    if label:\n",
    "        ax.scatter(X[:, 0], X[:, 1], c=labels, s=40, cmap='viridis', zorder=2)\n",
    "    else:\n",
    "        ax.scatter(X[:, 0], X[:, 1], s=40, zorder=2)\n",
    "    ax.axis('equal')\n",
    "    \n",
    "    w_factor = 0.2 / gmm.weights_.max()\n",
    "    for pos, covar, w in zip(gmm.means_, gmm.covariances_, gmm.weights_):\n",
    "        draw_ellipse(pos, covar, alpha=w * w_factor)\n",
    "    fig.set_size_inches(10, 5)"
   ]
  },
  {
   "cell_type": "code",
   "execution_count": 3,
   "metadata": {},
   "outputs": [],
   "source": [
    "def extract_data():\n",
    "    data = []\n",
    "    for f in os.listdir(\"PCA_results/\"):\n",
    "        if not f.startswith(\".\") and f.startswith(\"sub\"):\n",
    "            data.append(pd.read_csv(os.path.join(\"PCA_results\", f)).values)\n",
    "    return np.stack(data)"
   ]
  },
  {
   "cell_type": "code",
   "execution_count": 4,
   "metadata": {},
   "outputs": [],
   "source": [
    "data = extract_data()"
   ]
  },
  {
   "cell_type": "code",
   "execution_count": 5,
   "metadata": {},
   "outputs": [
    {
     "data": {
      "text/plain": [
       "(28, 369, 6)"
      ]
     },
     "execution_count": 5,
     "metadata": {},
     "output_type": "execute_result"
    }
   ],
   "source": [
    "data.shape"
   ]
  },
  {
   "cell_type": "code",
   "execution_count": 6,
   "metadata": {},
   "outputs": [
    {
     "data": {
      "image/png": "[encoded data removed]",
      "text/plain": [
       "<Figure size 720x360 with 1 Axes>"
      ]
     },
     "metadata": {
      "needs_background": "light"
     },
     "output_type": "display_data"
    }
   ],
   "source": [
    "fig = plt.figure()\n",
    "plt.scatter(np.arange(len(data[0, :, 0])), data[0, :, 0])\n",
    "fig.set_size_inches(10, 5)"
   ]
  },
  {
   "cell_type": "code",
   "execution_count": 7,
   "metadata": {},
   "outputs": [],
   "source": [
    "subj_one = data[0, :, :]"
   ]
  },
  {
   "cell_type": "code",
   "execution_count": 114,
   "metadata": {},
   "outputs": [],
   "source": [
    "def time_diff(data):\n",
    "    for i in range(1,29):\n",
    "        subj_data = data[i]\n",
    "        visual = np.array(list(zip(np.arange(len(subj_data[:, 3])), subj_data[:, 3])))\n",
    "        events_df = pd.read_csv(\"ds000164_R1.0.1/sub-00{}/func/sub-00{}_task-stroop_events.tsv\".format(i, i), delimiter='\\t')\n",
    "        recorded_events = events_df.onset / 1.5 \n",
    "        gmm = GaussianMixture(n_components=len(recorded_events), covariance_type='spherical')\n",
    "        gmm.fit(visual)\n",
    "        visual_events = np.sort(gmm.means_[:, 0])\n",
    "        print(np.abs(recorded_events - visual_events).mean())"
   ]
  },
  {
   "cell_type": "code",
   "execution_count": null,
   "metadata": {},
   "outputs": [],
   "source": [
    "time_diff(data)"
   ]
  },
  {
   "cell_type": "code",
   "execution_count": 64,
   "metadata": {},
   "outputs": [],
   "source": [
    "visual = np.array(list(zip(np.arange(len(subj_one[:, 0])), subj_one[:, 0])))\n",
    "motor = np.array(list(zip(np.arange(len(subj_one[:, -1])), subj_one[:, -1])))"
   ]
  },
  {
   "cell_type": "code",
   "execution_count": 65,
   "metadata": {},
   "outputs": [],
   "source": [
    "from sklearn.mixture import GaussianMixture"
   ]
  },
  {
   "cell_type": "code",
   "execution_count": 106,
   "metadata": {},
   "outputs": [
    {
     "name": "stdout",
     "output_type": "stream",
     "text": [
      "###\n",
      "###\n",
      "###\n",
      "###\n",
      "###\n",
      "###\n",
      "###\n",
      "###\n",
      "###\n",
      "###\n",
      "###\n",
      "###\n",
      "###\n",
      "###\n",
      "###\n",
      "###\n",
      "###\n",
      "###\n",
      "###\n",
      "###\n",
      "###\n",
      "###\n",
      "###\n",
      "###\n",
      "###\n",
      "###\n",
      "###\n",
      "###\n"
     ]
    }
   ],
   "source": [
    "# leave one out:\n",
    "# \n",
    "visual_data = data[:, :, 0]\n",
    "likelihood = np.zeros(len(data) * 30).reshape(len(data), 30)\n",
    "for i in range(len(data)):\n",
    "    previous = 0\n",
    "    for j in range(10, 310, 10):\n",
    "        gmm = GaussianMixture(n_components=j, covariance_type='spherical')\n",
    "        gmm.fit(visual_data[i].reshape(-1, 1))\n",
    "        new = gmm.score(visual_data[i].reshape(-1, 1))\n",
    "        likelihood[i, int(j / 10) - 1] = new - previous\n",
    "        previous = new\n",
    "    print(\"###\")"
   ]
  },
  {
   "cell_type": "code",
   "execution_count": 107,
   "metadata": {},
   "outputs": [
    {
     "data": {
      "text/plain": [
       "array([23, 13, 20, 27, 20, 10, 20, 15, 18, 19, 26, 22, 17, 14, 16, 21, 19,\n",
       "       22, 17,  4, 20, 25, 18, 20, 16, 21, 15, 20])"
      ]
     },
     "execution_count": 107,
     "metadata": {},
     "output_type": "execute_result"
    }
   ],
   "source": [
    "np.argmax(likelihood, axis=1)"
   ]
  },
  {
   "cell_type": "code",
   "execution_count": 109,
   "metadata": {},
   "outputs": [
    {
     "data": {
      "text/plain": [
       "20"
      ]
     },
     "execution_count": 109,
     "metadata": {},
     "output_type": "execute_result"
    }
   ],
   "source": [
    "np.mean(likelihood, axis=0).argmax()"
   ]
  },
  {
   "cell_type": "code",
   "execution_count": 111,
   "metadata": {},
   "outputs": [
    {
     "name": "stdout",
     "output_type": "stream",
     "text": [
      "###\n",
      "###\n",
      "###\n",
      "###\n",
      "###\n",
      "###\n",
      "###\n",
      "###\n",
      "###\n",
      "###\n",
      "###\n",
      "###\n",
      "###\n",
      "###\n",
      "###\n",
      "###\n",
      "###\n",
      "###\n",
      "###\n",
      "###\n",
      "###\n",
      "###\n",
      "###\n",
      "###\n",
      "###\n",
      "###\n",
      "###\n",
      "###\n"
     ]
    }
   ],
   "source": [
    "motor_data = data[:, :, 3]\n",
    "likelihood = np.zeros(len(data) * 30).reshape(len(data), 30)\n",
    "for i in range(len(data)):\n",
    "    previous = 0\n",
    "    for j in range(10, 310, 10):\n",
    "        gmm = GaussianMixture(n_components=j, covariance_type='spherical')\n",
    "        gmm.fit(motor_data[i].reshape(-1, 1))\n",
    "        new = gmm.score(motor_data[i].reshape(-1, 1))\n",
    "        likelihood[i, int(j / 10) - 1] = new - previous\n",
    "        previous = new\n",
    "    print(\"###\")"
   ]
  },
  {
   "cell_type": "code",
   "execution_count": 116,
   "metadata": {},
   "outputs": [
    {
     "data": {
      "text/plain": [
       "array([-4.915283  ,  0.05966713,  0.05713711,  0.06796558,  0.08102188,\n",
       "        0.0791002 ,  0.1011645 ,  0.09511196,  0.10827718,  0.09928842,\n",
       "        0.12027392,  0.12587975,  0.14731594,  0.15642593,  0.14384561,\n",
       "        0.15253866,  0.16124799,  0.16314572,  0.1805994 ,  0.18487861,\n",
       "        0.18081457,  0.188733  ,  0.18577866,  0.18688714,  0.19007944,\n",
       "        0.18901355,  0.17756611,  0.18619169,  0.17296288,  0.17524762])"
      ]
     },
     "execution_count": 116,
     "metadata": {},
     "output_type": "execute_result"
    }
   ],
   "source": [
    "np.mean(likelihood, axis=0)"
   ]
  },
  {
   "cell_type": "code",
   "execution_count": 117,
   "metadata": {},
   "outputs": [
    {
     "data": {
      "text/plain": [
       "24"
      ]
     },
     "execution_count": 117,
     "metadata": {},
     "output_type": "execute_result"
    }
   ],
   "source": [
    "np.mean(likelihood, axis=0).argmax()"
   ]
  },
  {
   "cell_type": "code",
   "execution_count": 110,
   "metadata": {},
   "outputs": [],
   "source": [
    "gmm = GaussianMixture(n_components=120, covariance_type='spherical')"
   ]
  },
  {
   "cell_type": "code",
   "execution_count": 67,
   "metadata": {},
   "outputs": [
    {
     "data": {
      "text/plain": [
       "GaussianMixture(covariance_type='spherical', init_params='kmeans',\n",
       "        max_iter=100, means_init=None, n_components=120, n_init=1,\n",
       "        precisions_init=None, random_state=None, reg_covar=1e-06,\n",
       "        tol=0.001, verbose=0, verbose_interval=10, warm_start=False,\n",
       "        weights_init=None)"
      ]
     },
     "execution_count": 67,
     "metadata": {},
     "output_type": "execute_result"
    }
   ],
   "source": [
    "gmm.fit(visual)"
   ]
  },
  {
   "cell_type": "code",
   "execution_count": 68,
   "metadata": {},
   "outputs": [],
   "source": [
    "visual_events = np.sort(gmm.means_[:, 0])"
   ]
  },
  {
   "cell_type": "code",
   "execution_count": 70,
   "metadata": {},
   "outputs": [],
   "source": [
    "gmm.fit(motor)\n",
    "motor_events = np.sort(gmm.means_[:, 0])"
   ]
  },
  {
   "cell_type": "code",
   "execution_count": 74,
   "metadata": {},
   "outputs": [
    {
     "data": {
      "text/plain": [
       "array([ 0.49221911,  0.5       , -2.49894569,  0.30686845, -0.17794336,\n",
       "        0.29015773,  1.02028957,  2.49982488,  1.05093187,  6.00592423,\n",
       "        8.99758927,  3.019351  ,  8.52237256, 11.1387913 ,  5.14724085,\n",
       "        7.44034962,  1.51270259,  0.4936201 , -3.33317214, -1.77581936,\n",
       "        2.2701904 ,  0.97360198,  6.10220277, -0.94308061,  1.50007239,\n",
       "        5.58196635,  0.58196174,  5.41703113,  4.99563801,  6.73447295,\n",
       "        5.63820795,  9.        ,  5.36959445,  0.67900176,  3.5399793 ,\n",
       "        0.70579051,  1.29898938,  0.8577453 ,  6.09564276, 10.46544385,\n",
       "        9.16766386, 12.03937241, 11.95024451,  8.73777167,  9.99903242,\n",
       "        9.33222734, 15.50693515, 15.86696804, 16.8273543 , 20.17616827,\n",
       "       20.36532685, 21.64727153, 20.00165848, 22.8999952 , 18.49999981,\n",
       "       24.00054671, 23.80190003, 28.16811977, 28.33319604, 25.        ,\n",
       "       27.53782411, 24.61407012, 32.02075163, 25.12040969, 25.0877876 ,\n",
       "       22.2820714 , 20.00018919, 20.19692647, 20.23172239, 18.6557394 ,\n",
       "       19.19772881, 18.50000283, 16.34075735, 15.82514198, 15.15244905,\n",
       "       15.50422391, 17.49987739, 11.82907641, 12.89418583, 10.500551  ,\n",
       "        8.94625841, 11.33540169, 12.99997172, 12.57849237,  6.5       ,\n",
       "       11.52323303,  9.64709396,  8.28096828,  3.50272707,  6.74982922,\n",
       "        8.49998998,  3.31237815,  0.78547904, -0.24852977,  0.4999869 ,\n",
       "        5.49986479,  2.96052512,  0.39856512,  5.24481557, -2.01469728,\n",
       "        2.44845126, -1.00059056, -5.50085021, -1.28306118, -2.47262713,\n",
       "       -2.00090182, -3.00089885, -6.00946411, -6.32946341, -1.00382407,\n",
       "        0.99075895, -1.73456697, -2.3808083 ,  2.34192945,  0.45035652,\n",
       "       -0.06231475,  0.52943556, -2.71724884, -3.04047351,  0.26288249])"
      ]
     },
     "execution_count": 74,
     "metadata": {},
     "output_type": "execute_result"
    }
   ],
   "source": [
    "motor_events.sort()\n",
    "visual_events.sort()\n",
    "motor_events - visual_events"
   ]
  },
  {
   "cell_type": "code",
   "execution_count": 75,
   "metadata": {},
   "outputs": [
    {
     "data": {
      "text/plain": [
       "array([  1.5       ,   5.5       ,   5.5       ,   8.32369833,\n",
       "         8.49999987,  12.00033111,  16.02028957,  19.99999008,\n",
       "        21.05093187,  28.00087414,  32.00002575,  32.01944785,\n",
       "        38.34305597,  41.32339439,  44.14755532,  48.        ,\n",
       "        48.10072896,  48.49983256,  50.        ,  56.22418064,\n",
       "        60.77967275,  61.47361665,  69.60220171,  70.05632211,\n",
       "        72.5000415 ,  78.55273165,  79.07560195,  88.75058092,\n",
       "        89.99512591,  96.27067488,  97.99664954, 104.        ,\n",
       "       106.24055879, 107.94614522, 112.5399793 , 114.        ,\n",
       "       118.29898938, 121.14966466, 127.59866355, 132.46544385,\n",
       "       134.49998614, 137.53716203, 144.4113138 , 144.73777167,\n",
       "       149.        , 150.66556068, 157.65016085, 161.20030226,\n",
       "       168.32727159, 172.53293326, 177.86544677, 179.14819218,\n",
       "       185.        , 188.39999617, 189.        , 195.00026545,\n",
       "       195.80190003, 201.49998022, 202.33319604, 203.        ,\n",
       "       207.0000017 , 208.94422565, 216.49994584, 216.62040974,\n",
       "       219.        , 220.        , 222.        , 225.19692647,\n",
       "       228.        , 228.66666667, 232.50000002, 235.49999999,\n",
       "       236.34076029, 239.49999977, 241.        , 242.50000001,\n",
       "       245.99987707, 247.00114462, 248.89361193, 252.66924448,\n",
       "       255.29255384, 259.03455766, 261.99997172, 266.43084572,\n",
       "       266.5       , 273.52254777, 274.56147608, 275.49998119,\n",
       "       275.50272707, 280.        , 284.49998998, 284.50438552,\n",
       "       285.97837549, 290.24999937, 290.99998691, 297.49986479,\n",
       "       299.        , 299.4997217 , 306.60042619, 306.99894249,\n",
       "       313.27487531, 313.99940944, 314.        , 318.33333223,\n",
       "       319.98248652, 324.        , 326.49914108, 327.31449933,\n",
       "       328.17053659, 333.49631938, 338.99075895, 341.01587107,\n",
       "       341.61816211, 346.62435826, 349.95035652, 353.26578659,\n",
       "       356.20621926, 358.85780546, 361.30245718, 366.26120229])"
      ]
     },
     "execution_count": 75,
     "metadata": {},
     "output_type": "execute_result"
    }
   ],
   "source": [
    "motor_events"
   ]
  },
  {
   "cell_type": "code",
   "execution_count": 51,
   "metadata": {},
   "outputs": [],
   "source": [
    "import pandas as pd"
   ]
  },
  {
   "cell_type": "code",
   "execution_count": 52,
   "metadata": {},
   "outputs": [],
   "source": [
    "events_df = pd.read_csv(\"ds000164_R1.0.1/sub-001/func/sub-001_task-stroop_events.tsv\", delimiter='\\t')"
   ]
  },
  {
   "cell_type": "code",
   "execution_count": 53,
   "metadata": {},
   "outputs": [],
   "source": [
    "recorded_events = events_df.onset / 1.5 "
   ]
  },
  {
   "cell_type": "code",
   "execution_count": 54,
   "metadata": {},
   "outputs": [
    {
     "data": {
      "text/plain": [
       "array([  1.01404566,   5.        ,   8.04092223,   8.67794323,\n",
       "        11.4218528 ,  15.        ,  17.5001652 ,  23.00183385,\n",
       "        23.66673575,  24.53034346,  29.00009851,  30.19293243,\n",
       "        36.        ,  36.00099406,  38.99522119,  43.72970396,\n",
       "        46.5495362 ,  49.35112865,  53.33524593,  57.        ,\n",
       "        58.        ,  61.6666644 ,  63.5       ,  69.3767629 ,\n",
       "        70.95351103,  78.49649131,  80.55191037,  85.0003708 ,\n",
       "        88.9653507 ,  91.44146099,  93.49921617,  95.        ,\n",
       "        99.50166702, 100.54747746, 107.32596113, 114.42039827,\n",
       "       117.        , 120.30257066, 121.48575591, 125.49781512,\n",
       "       128.60724901, 134.92353326, 139.0009658 , 141.33333333,\n",
       "       145.33333418, 151.49991633, 152.20461953, 155.        ,\n",
       "       157.48203423, 164.99568328, 165.50024984, 166.94488888,\n",
       "       170.99428766, 172.        , 174.4903492 , 179.42724819,\n",
       "       182.43206669, 187.        , 190.        , 191.50000525,\n",
       "       194.80204505, 196.34643444, 200.00103575, 201.99990604,\n",
       "       205.        , 207.73373482, 210.01091948, 213.25074979,\n",
       "       215.27752809, 220.00000294, 223.67499639, 225.73855682,\n",
       "       226.99577743, 228.49999968, 235.17204937, 235.99942367,\n",
       "       241.        , 242.16918468, 245.37667747, 246.34632924,\n",
       "       249.        , 254.11999212, 258.27963968, 261.95612688,\n",
       "       261.99931058, 267.21905605, 272.        , 273.24992572,\n",
       "       276.        , 279.        , 281.19212264, 281.50653776,\n",
       "       288.64363443, 290.50000244, 292.        , 296.0387895 ,\n",
       "       299.10052649, 301.35468613, 308.34717572, 309.00021978,\n",
       "       314.28833534, 314.4025261 , 315.        , 319.50085021,\n",
       "       322.39437614, 324.70653578, 326.00005296, 329.50003994,\n",
       "       333.32374641, 334.5       , 334.50014345, 338.        ,\n",
       "       342.75043805, 343.99891039, 344.27611317, 349.5       ,\n",
       "       353.32811376, 355.83755574, 361.57561892, 365.049537  ])"
      ]
     },
     "execution_count": 54,
     "metadata": {},
     "output_type": "execute_result"
    }
   ],
   "source": [
    "visual_events"
   ]
  },
  {
   "cell_type": "code",
   "execution_count": 55,
   "metadata": {},
   "outputs": [
    {
     "data": {
      "text/plain": [
       "0        0.228000\n",
       "1        2.230000\n",
       "2        8.230667\n",
       "3       10.232667\n",
       "4       12.233333\n",
       "5       14.234000\n",
       "6       16.234667\n",
       "7       18.235333\n",
       "8       21.236000\n",
       "9       23.236667\n",
       "10      29.237333\n",
       "11      31.239333\n",
       "12      33.240000\n",
       "13      35.240667\n",
       "14      37.241333\n",
       "15      39.242000\n",
       "16      44.242667\n",
       "17      46.244667\n",
       "18      54.245333\n",
       "19      56.248000\n",
       "20      60.248667\n",
       "21      63.250000\n",
       "22      66.250667\n",
       "23      71.252000\n",
       "24      75.253333\n",
       "25      79.254667\n",
       "26      81.256667\n",
       "27      84.257333\n",
       "28      94.258000\n",
       "29      96.261333\n",
       "          ...    \n",
       "90     283.324667\n",
       "91     285.325333\n",
       "92     289.326000\n",
       "93     291.327333\n",
       "94     293.328000\n",
       "95     295.328667\n",
       "96     299.329333\n",
       "97     301.330667\n",
       "98     305.331333\n",
       "99     307.332667\n",
       "100    309.333333\n",
       "101    311.334000\n",
       "102    313.334667\n",
       "103    315.335333\n",
       "104    317.336000\n",
       "105    319.336667\n",
       "106    321.337333\n",
       "107    324.338000\n",
       "108    326.339333\n",
       "109    328.340000\n",
       "110    330.340667\n",
       "111    332.341333\n",
       "112    336.342000\n",
       "113    339.343333\n",
       "114    341.344000\n",
       "115    343.344667\n",
       "116    349.345333\n",
       "117    351.347333\n",
       "118    353.348000\n",
       "119    355.348667\n",
       "Name: onset, Length: 120, dtype: float64"
      ]
     },
     "execution_count": 55,
     "metadata": {},
     "output_type": "execute_result"
    }
   ],
   "source": [
    "recorded_events"
   ]
  },
  {
   "cell_type": "code",
   "execution_count": 56,
   "metadata": {},
   "outputs": [
    {
     "data": {
      "text/plain": [
       "4.057570679547968"
      ]
     },
     "execution_count": 56,
     "metadata": {},
     "output_type": "execute_result"
    }
   ],
   "source": [
    "(np.abs(recorded_events[:] - visual_events[:])).mean()"
   ]
  },
  {
   "cell_type": "code",
   "execution_count": 57,
   "metadata": {},
   "outputs": [
    {
     "data": {
      "text/plain": [
       "array([7.25489964e+00, 4.58638411e+00, 3.22128059e+00, 3.23725258e+00,\n",
       "       3.74942616e+00, 1.38319115e+01, 3.71324469e+00, 1.81434239e+01,\n",
       "       2.81725484e+00, 1.26723335e+01, 1.30450285e+01, 2.34463432e+01,\n",
       "       1.03352764e-06, 7.56922848e+00, 6.57358818e+00, 1.02552449e+01,\n",
       "       8.19413230e-01, 7.36639568e+00, 1.13269634e+01, 6.78831606e+00,\n",
       "       1.53069794e+00, 1.31051113e+00, 1.52438285e+00, 4.18878862e+00,\n",
       "       1.16455530e+01, 7.98922830e+00, 2.52480182e+01, 7.93688574e-01,\n",
       "       1.77583782e+01, 1.16485510e+01, 1.50969361e+01, 1.02797606e-06,\n",
       "       2.49266516e+01, 1.03074032e+00, 1.30860570e-01, 4.82074280e+00,\n",
       "       8.14315414e+00, 1.41873157e+01, 3.88380315e+00, 8.32108593e+00,\n",
       "       2.49061309e+01, 2.47522102e+00, 1.08941649e+01, 3.00835943e+01,\n",
       "       6.59172869e+00, 4.89955890e+00, 1.59071568e+01, 5.85816419e+00,\n",
       "       9.24467989e+00, 2.86953420e+00, 3.64641905e+00, 1.70079190e+01,\n",
       "       8.42996417e+00, 1.44983596e+01, 3.40833189e+01, 9.01287498e+00,\n",
       "       1.02157489e+01, 1.01114273e+01, 7.46944635e+00, 4.77166477e+00,\n",
       "       7.73060431e+00, 1.03353762e-06, 9.90254353e+00, 1.20583241e+01,\n",
       "       1.02984962e-06, 1.04443031e+00, 1.32345377e+01, 9.20463351e+00,\n",
       "       1.03173773e-06, 1.39953733e+01, 1.02988963e-06, 2.52111346e+00,\n",
       "       2.16165451e-01, 1.03545574e-06, 1.03070423e+01, 7.44135053e+00,\n",
       "       5.94797687e-01, 9.40284267e+00, 1.03539367e-06, 3.04581542e+01,\n",
       "       1.03177411e-06, 3.24353078e+00, 1.03174500e-06, 1.03166633e-06,\n",
       "       1.03355308e-06, 5.05730197e+00, 1.84800399e+01, 1.02988963e-06,\n",
       "       1.03726745e-06, 6.28251464e+00, 6.22988291e+00, 6.35183129e+00,\n",
       "       7.88842838e+00, 1.03365858e-06, 2.37919273e+00, 2.80421142e+01,\n",
       "       2.01266401e+01, 1.43310516e+01, 8.14325626e+00, 1.03166522e-06,\n",
       "       1.01181017e+01, 1.35493172e+01, 1.96394015e+01, 7.91155760e-01,\n",
       "       8.89999653e-01, 1.29963526e+01, 1.02983506e-06, 3.01254206e+00,\n",
       "       1.02980573e-06, 5.55036922e-01, 4.28034121e+00, 2.41468877e+00,\n",
       "       4.81182355e+00, 8.09885369e-01, 4.15403429e-01, 1.74040864e+01,\n",
       "       1.68786126e+01, 1.03171226e-06, 1.05108538e+00, 1.03173045e-06])"
      ]
     },
     "execution_count": 57,
     "metadata": {},
     "output_type": "execute_result"
    }
   ],
   "source": [
    "gmm.covariances_"
   ]
  },
  {
   "cell_type": "code",
   "execution_count": 15,
   "metadata": {},
   "outputs": [
    {
     "data": {
      "image/png": "[encoded data removed]",
      "text/plain": [
       "<Figure size 720x360 with 1 Axes>"
      ]
     },
     "metadata": {
      "needs_background": "light"
     },
     "output_type": "display_data"
    }
   ],
   "source": [
    "plot_gmm(gmm, visual)"
   ]
  },
  {
   "cell_type": "code",
   "execution_count": 58,
   "metadata": {},
   "outputs": [
    {
     "data": {
      "text/plain": [
       "GaussianMixture(covariance_type='full', init_params='kmeans', max_iter=100,\n",
       "        means_init=None, n_components=120, n_init=1, precisions_init=None,\n",
       "        random_state=None, reg_covar=1e-06, tol=0.001, verbose=0,\n",
       "        verbose_interval=10, warm_start=False, weights_init=None)"
      ]
     },
     "execution_count": 58,
     "metadata": {},
     "output_type": "execute_result"
    }
   ],
   "source": [
    "gmm.fit(visual)"
   ]
  },
  {
   "cell_type": "code",
   "execution_count": 63,
   "metadata": {},
   "outputs": [
    {
     "data": {
      "text/plain": [
       "<matplotlib.collections.PathCollection at 0x7f8e7acb1400>"
      ]
     },
     "execution_count": 63,
     "metadata": {},
     "output_type": "execute_result"
    },
    {
     "data": {
      "image/png": "[encoded data removed]",
      "text/plain": [
       "<Figure size 432x288 with 1 Axes>"
      ]
     },
     "metadata": {
      "needs_background": "light"
     },
     "output_type": "display_data"
    }
   ],
   "source": [
    "plt.scatter(gmm.means_[:, 0], np.ones(len(gmm.means_)))"
   ]
  },
  {
   "cell_type": "code",
   "execution_count": null,
   "metadata": {},
   "outputs": [],
   "source": [
    "visual_events = np."
   ]
  },
  {
   "cell_type": "code",
   "execution_count": null,
   "metadata": {},
   "outputs": [],
   "source": []
  },
  {
   "cell_type": "code",
   "execution_count": 18,
   "metadata": {},
   "outputs": [
    {
     "ename": "IndexError",
     "evalue": "index 1 is out of bounds for axis 1 with size 1",
     "output_type": "error",
     "traceback": [
      "\u001b[0;31m---------------------------------------------------------------------------\u001b[0m",
      "\u001b[0;31mIndexError\u001b[0m                                Traceback (most recent call last)",
      "\u001b[0;32m<ipython-input-18-9845d3366cd9>\u001b[0m in \u001b[0;36m<module>\u001b[0;34m\u001b[0m\n\u001b[0;32m----> 1\u001b[0;31m \u001b[0mplot_gmm\u001b[0m\u001b[0;34m(\u001b[0m\u001b[0mgmm\u001b[0m\u001b[0;34m,\u001b[0m \u001b[0msubj_one\u001b[0m\u001b[0;34m[\u001b[0m\u001b[0;34m:\u001b[0m\u001b[0;34m,\u001b[0m \u001b[0;36m0\u001b[0m\u001b[0;34m]\u001b[0m\u001b[0;34m.\u001b[0m\u001b[0mreshape\u001b[0m\u001b[0;34m(\u001b[0m\u001b[0;34m-\u001b[0m\u001b[0;36m1\u001b[0m\u001b[0;34m,\u001b[0m \u001b[0;36m1\u001b[0m\u001b[0;34m)\u001b[0m\u001b[0;34m,\u001b[0m \u001b[0mlabel\u001b[0m\u001b[0;34m=\u001b[0m\u001b[0;32mFalse\u001b[0m\u001b[0;34m)\u001b[0m\u001b[0;34m\u001b[0m\u001b[0m\n\u001b[0m",
      "\u001b[0;32m<ipython-input-15-4e6c65195422>\u001b[0m in \u001b[0;36mplot_gmm\u001b[0;34m(gmm, X, label, ax)\u001b[0m\n\u001b[1;32m     25\u001b[0m         \u001b[0max\u001b[0m\u001b[0;34m.\u001b[0m\u001b[0mscatter\u001b[0m\u001b[0;34m(\u001b[0m\u001b[0mX\u001b[0m\u001b[0;34m[\u001b[0m\u001b[0;34m:\u001b[0m\u001b[0;34m,\u001b[0m \u001b[0;36m0\u001b[0m\u001b[0;34m]\u001b[0m\u001b[0;34m,\u001b[0m \u001b[0mX\u001b[0m\u001b[0;34m[\u001b[0m\u001b[0;34m:\u001b[0m\u001b[0;34m,\u001b[0m \u001b[0;36m1\u001b[0m\u001b[0;34m]\u001b[0m\u001b[0;34m,\u001b[0m \u001b[0mc\u001b[0m\u001b[0;34m=\u001b[0m\u001b[0mlabels\u001b[0m\u001b[0;34m,\u001b[0m \u001b[0ms\u001b[0m\u001b[0;34m=\u001b[0m\u001b[0;36m40\u001b[0m\u001b[0;34m,\u001b[0m \u001b[0mcmap\u001b[0m\u001b[0;34m=\u001b[0m\u001b[0;34m'viridis'\u001b[0m\u001b[0;34m,\u001b[0m \u001b[0mzorder\u001b[0m\u001b[0;34m=\u001b[0m\u001b[0;36m2\u001b[0m\u001b[0;34m)\u001b[0m\u001b[0;34m\u001b[0m\u001b[0m\n\u001b[1;32m     26\u001b[0m     \u001b[0;32melse\u001b[0m\u001b[0;34m:\u001b[0m\u001b[0;34m\u001b[0m\u001b[0m\n\u001b[0;32m---> 27\u001b[0;31m         \u001b[0max\u001b[0m\u001b[0;34m.\u001b[0m\u001b[0mscatter\u001b[0m\u001b[0;34m(\u001b[0m\u001b[0mX\u001b[0m\u001b[0;34m[\u001b[0m\u001b[0;34m:\u001b[0m\u001b[0;34m,\u001b[0m \u001b[0;36m0\u001b[0m\u001b[0;34m]\u001b[0m\u001b[0;34m,\u001b[0m \u001b[0mX\u001b[0m\u001b[0;34m[\u001b[0m\u001b[0;34m:\u001b[0m\u001b[0;34m,\u001b[0m \u001b[0;36m1\u001b[0m\u001b[0;34m]\u001b[0m\u001b[0;34m,\u001b[0m \u001b[0ms\u001b[0m\u001b[0;34m=\u001b[0m\u001b[0;36m40\u001b[0m\u001b[0;34m,\u001b[0m \u001b[0mzorder\u001b[0m\u001b[0;34m=\u001b[0m\u001b[0;36m2\u001b[0m\u001b[0;34m)\u001b[0m\u001b[0;34m\u001b[0m\u001b[0m\n\u001b[0m\u001b[1;32m     28\u001b[0m     \u001b[0max\u001b[0m\u001b[0;34m.\u001b[0m\u001b[0maxis\u001b[0m\u001b[0;34m(\u001b[0m\u001b[0;34m'equal'\u001b[0m\u001b[0;34m)\u001b[0m\u001b[0;34m\u001b[0m\u001b[0m\n\u001b[1;32m     29\u001b[0m \u001b[0;34m\u001b[0m\u001b[0m\n",
      "\u001b[0;31mIndexError\u001b[0m: index 1 is out of bounds for axis 1 with size 1"
     ]
    },
    {
     "data": {
      "image/png": "[encoded data removed]",
      "text/plain": [
       "<Figure size 432x288 with 1 Axes>"
      ]
     },
     "metadata": {
      "needs_background": "light"
     },
     "output_type": "display_data"
    }
   ],
   "source": [
    "plot_gmm(gmm, subj_one[:, 0].reshape(-1, 1), label=False)"
   ]
  },
  {
   "cell_type": "code",
   "execution_count": null,
   "metadata": {},
   "outputs": [],
   "source": []
  }
 ],
 "metadata": {
  "kernelspec": {
   "display_name": "Python 3",
   "language": "python",
   "name": "python3"
  },
  "language_info": {
   "codemirror_mode": {
    "name": "ipython",
    "version": 3
   },
   "file_extension": ".py",
   "mimetype": "text/x-python",
   "name": "python",
   "nbconvert_exporter": "python",
   "pygments_lexer": "ipython3",
   "version": "3.7.0"
  }
 },
 "nbformat": 4,
 "nbformat_minor": 2
}
