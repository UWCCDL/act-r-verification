{
 "cells": [
  {
   "cell_type": "markdown",
   "metadata": {},
   "source": [
    "# 1D Kernel Density Estimation"
   ]
  },
  {
   "cell_type": "code",
   "execution_count": 34,
   "metadata": {},
   "outputs": [],
   "source": [
    "import numpy as np\n",
    "import pandas as pd\n",
    "import os\n",
    "import matplotlib.pyplot as plt\n",
    "import seaborn as sns; sns.set()"
   ]
  },
  {
   "cell_type": "code",
   "execution_count": 5,
   "metadata": {},
   "outputs": [],
   "source": [
    "def extract_data():\n",
    "    data = []\n",
    "    for f in os.listdir(\"PCA_results/\"):\n",
    "        if not f.startswith(\".\") and f.startswith(\"sub\"):\n",
    "            data.append(pd.read_csv(os.path.join(\"PCA_results\", f)).values)\n",
    "    return np.stack(data)"
   ]
  },
  {
   "cell_type": "code",
   "execution_count": 6,
   "metadata": {},
   "outputs": [],
   "source": [
    "data = extract_data()"
   ]
  },
  {
   "cell_type": "code",
   "execution_count": 7,
   "metadata": {},
   "outputs": [
    {
     "data": {
      "text/plain": [
       "(28, 369, 6)"
      ]
     },
     "execution_count": 7,
     "metadata": {},
     "output_type": "execute_result"
    }
   ],
   "source": [
    "data.shape"
   ]
  },
  {
   "cell_type": "code",
   "execution_count": 39,
   "metadata": {},
   "outputs": [],
   "source": [
    "visual = data[0, :, 0]"
   ]
  },
  {
   "cell_type": "code",
   "execution_count": 36,
   "metadata": {},
   "outputs": [],
   "source": [
    "from sklearn.neighbors import KernelDensity"
   ]
  },
  {
   "cell_type": "code",
   "execution_count": 65,
   "metadata": {},
   "outputs": [],
   "source": [
    "kde = KernelDensity(kernel='exponential', bandwidth=2)"
   ]
  },
  {
   "cell_type": "code",
   "execution_count": null,
   "metadata": {},
   "outputs": [],
   "source": []
  },
  {
   "cell_type": "code",
   "execution_count": 66,
   "metadata": {},
   "outputs": [
    {
     "data": {
      "text/plain": [
       "KernelDensity(algorithm='auto', atol=0, bandwidth=2, breadth_first=True,\n",
       "       kernel='exponential', leaf_size=40, metric='euclidean',\n",
       "       metric_params=None, rtol=0)"
      ]
     },
     "execution_count": 66,
     "metadata": {},
     "output_type": "execute_result"
    }
   ],
   "source": [
    "kde.fit(visual[:, None])"
   ]
  },
  {
   "cell_type": "code",
   "execution_count": 69,
   "metadata": {},
   "outputs": [],
   "source": [
    "X = np.linspace(0, len(visual), num=len(visual))"
   ]
  },
  {
   "cell_type": "code",
   "execution_count": 71,
   "metadata": {},
   "outputs": [
    {
     "data": {
      "text/plain": [
       "array([-3087.72898463, -3087.22762593, -3086.72626723, -3086.22490854,\n",
       "       -3085.72354984, -3085.22219115, -3084.72083245, -3084.21947376,\n",
       "       -3083.71811506, -3083.21675636, -3082.71539767, -3082.21403897,\n",
       "       -3081.71268028, -3081.21132158, -3080.70996289, -3080.20860419,\n",
       "       -3079.70724549, -3079.2058868 , -3078.7045281 , -3078.20316941,\n",
       "       -3077.70181071, -3077.20045202, -3076.69909332, -3076.19773463,\n",
       "       -3075.69637593, -3075.19501723, -3074.69365854, -3074.19229984,\n",
       "       -3073.69094115, -3073.18958245, -3072.68822376, -3072.18686506,\n",
       "       -3071.68550636, -3071.18414767, -3070.68278897, -3070.18143028,\n",
       "       -3069.68007158, -3069.17871289, -3068.67735419, -3068.17599549,\n",
       "       -3067.6746368 , -3067.1732781 , -3066.67191941, -3066.17056071,\n",
       "       -3065.66920202, -3065.16784332, -3064.66648463, -3064.16512593,\n",
       "       -3063.66376723, -3063.16240854, -3062.66104984, -3062.15969115,\n",
       "       -3061.65833245, -3061.15697376, -3060.65561506, -3060.15425636,\n",
       "       -3059.65289767, -3059.15153897, -3058.65018028, -3058.14882158,\n",
       "       -3057.64746289, -3057.14610419, -3056.64474549, -3056.1433868 ,\n",
       "       -3055.6420281 , -3055.14066941, -3054.63931071, -3054.13795202,\n",
       "       -3053.63659332, -3053.13523463, -3052.63387593, -3052.13251723,\n",
       "       -3051.63115854, -3051.12979984, -3050.62844115, -3050.12708245,\n",
       "       -3049.62572376, -3049.12436506, -3048.62300636, -3048.12164767,\n",
       "       -3047.62028897, -3047.11893028, -3046.61757158, -3046.11621289,\n",
       "       -3045.61485419, -3045.11349549, -3044.6121368 , -3044.1107781 ,\n",
       "       -3043.60941941, -3043.10806071, -3042.60670202, -3042.10534332,\n",
       "       -3041.60398463, -3041.10262593, -3040.60126723, -3040.09990854,\n",
       "       -3039.59854984, -3039.09719115, -3038.59583245, -3038.09447376,\n",
       "       -3037.59311506, -3037.09175636, -3036.59039767, -3036.08903897,\n",
       "       -3035.58768028, -3035.08632158, -3034.58496289, -3034.08360419,\n",
       "       -3033.58224549, -3033.0808868 , -3032.5795281 , -3032.07816941,\n",
       "       -3031.57681071, -3031.07545202, -3030.57409332, -3030.07273463,\n",
       "       -3029.57137593, -3029.07001723, -3028.56865854, -3028.06729984,\n",
       "       -3027.56594115, -3027.06458245, -3026.56322376, -3026.06186506,\n",
       "       -3025.56050636, -3025.05914767, -3024.55778897, -3024.05643028,\n",
       "       -3023.55507158, -3023.05371289, -3022.55235419, -3022.05099549,\n",
       "       -3021.5496368 , -3021.0482781 , -3020.54691941, -3020.04556071,\n",
       "       -3019.54420202, -3019.04284332, -3018.54148463, -3018.04012593,\n",
       "       -3017.53876723, -3017.03740854, -3016.53604984, -3016.03469115,\n",
       "       -3015.53333245, -3015.03197376, -3014.53061506, -3014.02925636,\n",
       "       -3013.52789767, -3013.02653897, -3012.52518028, -3012.02382158,\n",
       "       -3011.52246289, -3011.02110419, -3010.51974549, -3010.0183868 ,\n",
       "       -3009.5170281 , -3009.01566941, -3008.51431071, -3008.01295202,\n",
       "       -3007.51159332, -3007.01023463, -3006.50887593, -3006.00751723,\n",
       "       -3005.50615854, -3005.00479984, -3004.50344115, -3004.00208245,\n",
       "       -3003.50072376, -3002.99936506, -3002.49800636, -3001.99664767,\n",
       "       -3001.49528897, -3000.99393028, -3000.49257158, -2999.99121289,\n",
       "       -2999.48985419, -2998.98849549, -2998.4871368 , -2997.9857781 ,\n",
       "       -2997.48441941, -2996.98306071, -2996.48170202, -2995.98034332,\n",
       "       -2995.47898463, -2994.97762593, -2994.47626723, -2993.97490854,\n",
       "       -2993.47354984, -2992.97219115, -2992.47083245, -2991.96947376,\n",
       "       -2991.46811506, -2990.96675636, -2990.46539767, -2989.96403897,\n",
       "       -2989.46268028, -2988.96132158, -2988.45996289, -2987.95860419,\n",
       "       -2987.45724549, -2986.9558868 , -2986.4545281 , -2985.95316941,\n",
       "       -2985.45181071, -2984.95045202, -2984.44909332, -2983.94773463,\n",
       "       -2983.44637593, -2982.94501723, -2982.44365854, -2981.94229984,\n",
       "       -2981.44094115, -2980.93958245, -2980.43822376, -2979.93686506,\n",
       "       -2979.43550636, -2978.93414767, -2978.43278897, -2977.93143028,\n",
       "       -2977.43007158, -2976.92871289, -2976.42735419, -2975.92599549,\n",
       "       -2975.4246368 , -2974.9232781 , -2974.42191941, -2973.92056071,\n",
       "       -2973.41920202, -2972.91784332, -2972.41648463, -2971.91512593,\n",
       "       -2971.41376723, -2970.91240854, -2970.41104984, -2969.90969115,\n",
       "       -2969.40833245, -2968.90697376, -2968.40561506, -2967.90425636,\n",
       "       -2967.40289767, -2966.90153897, -2966.40018028, -2965.89882158,\n",
       "       -2965.39746289, -2964.89610419, -2964.39474549, -2963.8933868 ,\n",
       "       -2963.3920281 , -2962.89066941, -2962.38931071, -2961.88795202,\n",
       "       -2961.38659332, -2960.88523463, -2960.38387593, -2959.88251723,\n",
       "       -2959.38115854, -2958.87979984, -2958.37844115, -2957.87708245,\n",
       "       -2957.37572376, -2956.87436506, -2956.37300636, -2955.87164767,\n",
       "       -2955.37028897, -2954.86893028, -2954.36757158, -2953.86621289,\n",
       "       -2953.36485419, -2952.86349549, -2952.3621368 , -2951.8607781 ,\n",
       "       -2951.35941941, -2950.85806071, -2950.35670202, -2949.85534332,\n",
       "       -2949.35398463, -2948.85262593, -2948.35126723, -2947.84990854,\n",
       "       -2947.34854984, -2946.84719115, -2946.34583245, -2945.84447376,\n",
       "       -2945.34311506, -2944.84175636, -2944.34039767, -2943.83903897,\n",
       "       -2943.33768028, -2942.83632158, -2942.33496289, -2941.83360419,\n",
       "       -2941.33224549, -2940.8308868 , -2940.3295281 , -2939.82816941,\n",
       "       -2939.32681071, -2938.82545202, -2938.32409332, -2937.82273463,\n",
       "       -2937.32137593, -2936.82001723, -2936.31865854, -2935.81729984,\n",
       "       -2935.31594115, -2934.81458245, -2934.31322376, -2933.81186506,\n",
       "       -2933.31050636, -2932.80914767, -2932.30778897, -2931.80643028,\n",
       "       -2931.30507158, -2930.80371289, -2930.30235419, -2929.80099549,\n",
       "       -2929.2996368 , -2928.7982781 , -2928.29691941, -2927.79556071,\n",
       "       -2927.29420202, -2926.79284332, -2926.29148463, -2925.79012593,\n",
       "       -2925.28876723, -2924.78740854, -2924.28604984, -2923.78469115,\n",
       "       -2923.28333245, -2922.78197376, -2922.28061506, -2921.77925636,\n",
       "       -2921.27789767, -2920.77653897, -2920.27518028, -2919.77382158,\n",
       "       -2919.27246289, -2918.77110419, -2918.26974549, -2917.7683868 ,\n",
       "       -2917.2670281 , -2916.76566941, -2916.26431071, -2915.76295202,\n",
       "       -2915.26159332, -2914.76023463, -2914.25887593, -2913.75751723,\n",
       "       -2913.25615854, -2912.75479984, -2912.25344115, -2911.75208245,\n",
       "       -2911.25072376, -2910.74936506, -2910.24800636, -2909.74664767,\n",
       "       -2909.24528897, -2908.74393028, -2908.24257158, -2907.74121289,\n",
       "       -2907.23985419, -2906.73849549, -2906.2371368 , -2905.7357781 ,\n",
       "       -2905.23441941, -2904.73306071, -2904.23170202, -2903.73034332,\n",
       "       -2903.22898463])"
      ]
     },
     "execution_count": 71,
     "metadata": {},
     "output_type": "execute_result"
    }
   ],
   "source": [
    "kde.score_samples(X[:, None])"
   ]
  },
  {
   "cell_type": "code",
   "execution_count": 70,
   "metadata": {},
   "outputs": [
    {
     "data": {
      "text/plain": [
       "[<matplotlib.lines.Line2D at 0x11d1e5048>]"
      ]
     },
     "execution_count": 70,
     "metadata": {},
     "output_type": "execute_result"
    },
    {
     "data": {
      "image/png": "[encoded data removed]",
      "text/plain": [
       "<Figure size 432x288 with 1 Axes>"
      ]
     },
     "metadata": {},
     "output_type": "display_data"
    }
   ],
   "source": [
    "\n",
    "plt.plot(X, np.exp(kde.score_samples(X[:, None])))"
   ]
  },
  {
   "cell_type": "code",
   "execution_count": null,
   "metadata": {},
   "outputs": [],
   "source": []
  }
 ],
 "metadata": {
  "kernelspec": {
   "display_name": "Python 3",
   "language": "python",
   "name": "python3"
  },
  "language_info": {
   "codemirror_mode": {
    "name": "ipython",
    "version": 3
   },
   "file_extension": ".py",
   "mimetype": "text/x-python",
   "name": "python",
   "nbconvert_exporter": "python",
   "pygments_lexer": "ipython3",
   "version": "3.6.4"
  }
 },
 "nbformat": 4,
 "nbformat_minor": 2
}
