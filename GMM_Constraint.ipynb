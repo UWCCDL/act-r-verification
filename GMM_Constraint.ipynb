{
 "cells": [
  {
   "cell_type": "markdown",
   "metadata": {},
   "source": [
    "# Mixture of Gaussian with Constraint"
   ]
  },
  {
   "cell_type": "code",
   "execution_count": 249,
   "metadata": {},
   "outputs": [],
   "source": [
    "import matplotlib.pyplot as plt\n",
    "import numpy as np\n",
    "import os\n",
    "import pandas as pd\n",
    "from sklearn.cluster import KMeans\n",
    "from scipy.stats import norm\n",
    "import seaborn as sns; sns.set()"
   ]
  },
  {
   "cell_type": "code",
   "execution_count": 250,
   "metadata": {},
   "outputs": [],
   "source": [
    "def init(n_cluster, std, X):\n",
    "    Phi = np.full((n_cluster, ), 1 / n_cluster)\n",
    "    kmeans = KMeans(n_clusters=n_cluster).fit(X[:, None])\n",
    "    Mu = kmeans.cluster_centers_.reshape(-1,)\n",
    "    return Phi, Mu "
   ]
  },
  {
   "cell_type": "code",
   "execution_count": 251,
   "metadata": {},
   "outputs": [],
   "source": [
    "def e_step(X, Phi, Mu, std):\n",
    "    # w_ij\n",
    "    W = np.zeros((len(X), len(Phi))) \n",
    "    Norms = [norm(mu, std) for mu in Mu] \n",
    "    for i, x in enumerate(X):\n",
    "        probs = [n.pdf(x) for n in Norms] \n",
    "        W[i, :] = (Phi * probs) / np.sum(Phi * probs)\n",
    "    W = np.nan_to_num(W)\n",
    "    return W"
   ]
  },
  {
   "cell_type": "code",
   "execution_count": 252,
   "metadata": {},
   "outputs": [],
   "source": [
    "def m_step(X, W):\n",
    "    Phi = W.mean(axis=0)\n",
    "    Mu = (W.T * X).T.sum(axis=0) / W.sum(axis=0)\n",
    "    return Phi, Mu"
   ]
  },
  {
   "cell_type": "code",
   "execution_count": 253,
   "metadata": {},
   "outputs": [],
   "source": [
    "def converged(old_Mu, Mu):\n",
    "    return np.allclose(old_Mu, Mu, 1e-5)"
   ]
  },
  {
   "cell_type": "code",
   "execution_count": 254,
   "metadata": {},
   "outputs": [],
   "source": [
    "def em(X, n_cluster, std):\n",
    "    Phi, old_Mu = init(n_cluster, std, X)\n",
    "    Mu = old_Mu + 1\n",
    "    while not converged(old_Mu, Mu):\n",
    "        W = e_step(X, Phi, Mu, std)\n",
    "        old_Mu = Mu.copy()\n",
    "        Phi, Mu = m_step(X, W)\n",
    "        print(\".\", end='')\n",
    "    return W, Phi, Mu"
   ]
  },
  {
   "cell_type": "code",
   "execution_count": 255,
   "metadata": {},
   "outputs": [],
   "source": [
    "def log_likelihood(X, W, Mu, std):\n",
    "    means = Mu[W.argmax(axis=1)]\n",
    "    Norms = [norm(mu, std) for mu in means]\n",
    "    likes = [n.pdf(x) for n, x in zip(Norms, X)]\n",
    "    print(sum(likes))"
   ]
  },
  {
   "cell_type": "code",
   "execution_count": 256,
   "metadata": {},
   "outputs": [],
   "source": [
    "np.random.seed(0)\n",
    "X = np.linspace(-5,5,num=20)\n",
    "X0 = X*np.random.randn(len(X)) * 20 + 5 # Create data cluster 1\n",
    "X1 = X*np.random.randn(len(X)) * 20 - 5 # Create data cluster 2\n",
    "X2 = X*np.random.randn(len(X)) # Create data cluster 3\n",
    "X_tot = np.stack((X0,X1,X2)).flatten() # Combine the clusters to get the random datapoints from above"
   ]
  },
  {
   "cell_type": "code",
   "execution_count": 257,
   "metadata": {},
   "outputs": [
    {
     "name": "stdout",
     "output_type": "stream",
     "text": [
      ".."
     ]
    }
   ],
   "source": [
    "W, Phi, Mu = em(X_tot, 6, 1)"
   ]
  },
  {
   "cell_type": "code",
   "execution_count": 258,
   "metadata": {},
   "outputs": [
    {
     "name": "stdout",
     "output_type": "stream",
     "text": [
      "0.39691070418663565\n"
     ]
    }
   ],
   "source": [
    "log_likelihood(X, W, Mu, 1)"
   ]
  },
  {
   "cell_type": "code",
   "execution_count": 259,
   "metadata": {},
   "outputs": [
    {
     "data": {
      "text/plain": [
       "<matplotlib.collections.PathCollection at 0x1a1a6b0748>"
      ]
     },
     "execution_count": 259,
     "metadata": {},
     "output_type": "execute_result"
    },
    {
     "data": {
      "image/png": "[encoded data removed]",
      "text/plain": [
       "<Figure size 432x288 with 1 Axes>"
      ]
     },
     "metadata": {},
     "output_type": "display_data"
    }
   ],
   "source": [
    "plt.scatter(X_tot, np.zeros(len(X_tot)))\n",
    "plt.scatter(Mu, np.zeros(len(Mu)))"
   ]
  },
  {
   "cell_type": "code",
   "execution_count": 260,
   "metadata": {},
   "outputs": [],
   "source": [
    "def extract_data():\n",
    "    data = []\n",
    "    for f in os.listdir(\"PCA_results/\"):\n",
    "        if not f.startswith(\".\") and f.startswith(\"sub\"):\n",
    "            data.append(pd.read_csv(os.path.join(\"PCA_results\", f)).values)\n",
    "    return np.stack(data)"
   ]
  },
  {
   "cell_type": "code",
   "execution_count": 261,
   "metadata": {},
   "outputs": [],
   "source": [
    "data = extract_data()"
   ]
  },
  {
   "cell_type": "code",
   "execution_count": 262,
   "metadata": {},
   "outputs": [],
   "source": [
    "manual = data[:, :, 0]\n",
    "visual = data[:, :, 3]"
   ]
  },
  {
   "cell_type": "code",
   "execution_count": 263,
   "metadata": {},
   "outputs": [],
   "source": [
    "from sklearn.preprocessing import StandardScaler"
   ]
  },
  {
   "cell_type": "code",
   "execution_count": 264,
   "metadata": {},
   "outputs": [],
   "source": [
    "visual_scale = StandardScaler().fit_transform(visual)"
   ]
  },
  {
   "cell_type": "code",
   "execution_count": 271,
   "metadata": {},
   "outputs": [
    {
     "name": "stderr",
     "output_type": "stream",
     "text": [
      "/usr/local/miniconda3/lib/python3.6/site-packages/ipykernel_launcher.py:7: RuntimeWarning: invalid value encountered in true_divide\n",
      "  import sys\n"
     ]
    },
    {
     "name": "stdout",
     "output_type": "stream",
     "text": [
      "........48.35612566389834\n"
     ]
    }
   ],
   "source": [
    "W, Phi, Mu = em(visual[0], 10, 0.2)\n",
    "log_likelihood(visual[0], W, Mu, 0.2)"
   ]
  },
  {
   "cell_type": "code",
   "execution_count": 272,
   "metadata": {},
   "outputs": [
    {
     "name": "stdout",
     "output_type": "stream",
     "text": [
      "......78.15893258122085\n"
     ]
    }
   ],
   "source": [
    "W, Phi, Mu = em(visual[0], 20, 0.2)\n",
    "log_likelihood(visual[0], W, Mu, 0.2)"
   ]
  },
  {
   "cell_type": "code",
   "execution_count": 273,
   "metadata": {},
   "outputs": [
    {
     "name": "stdout",
     "output_type": "stream",
     "text": [
      "........115.53838080294395\n"
     ]
    }
   ],
   "source": [
    "W, Phi, Mu = em(visual[0], 30, 0.2)\n",
    "log_likelihood(visual[0], W, Mu, 0.2)"
   ]
  },
  {
   "cell_type": "code",
   "execution_count": 274,
   "metadata": {},
   "outputs": [
    {
     "name": "stdout",
     "output_type": "stream",
     "text": [
      "............117.05459976070564\n"
     ]
    }
   ],
   "source": [
    "W, Phi, Mu = em(visual[0], 40, 0.2)\n",
    "log_likelihood(visual[0], W, Mu, 1)"
   ]
  },
  {
   "cell_type": "code",
   "execution_count": 276,
   "metadata": {},
   "outputs": [
    {
     "name": "stderr",
     "output_type": "stream",
     "text": [
      "/usr/local/miniconda3/lib/python3.6/site-packages/ipykernel_launcher.py:7: RuntimeWarning: invalid value encountered in true_divide\n",
      "  import sys\n"
     ]
    },
    {
     "name": "stdout",
     "output_type": "stream",
     "text": [
      "...49.47050274491996\n",
      "...........68.15753631377437\n",
      "........122.96937092226474\n",
      "............163.02317075742414\n",
      ".............238.13785324535326\n",
      ".........249.67723648715372\n",
      "............349.49142122259406\n",
      "..........396.50674491604735\n",
      ".........446.6541011494582\n",
      "........477.9358879293972\n",
      "........508.79615847274397\n",
      ".......544.109653723291\n",
      ".......565.9006392114006\n",
      "....575.1138975321461\n",
      "....583.3795633329419\n",
      ".....594.6513930933731\n",
      ".....600.7875041610578\n"
     ]
    }
   ],
   "source": [
    "for i in range(10, 180, 10):\n",
    "    W, Phi, Mu = em(visual[0], i, 0.2)\n",
    "    log_likelihood(visual[0], W, Mu, 0.2)"
   ]
  },
  {
   "cell_type": "code",
   "execution_count": null,
   "metadata": {},
   "outputs": [],
   "source": []
  }
 ],
 "metadata": {
  "kernelspec": {
   "display_name": "Python 3",
   "language": "python",
   "name": "python3"
  },
  "language_info": {
   "codemirror_mode": {
    "name": "ipython",
    "version": 3
   },
   "file_extension": ".py",
   "mimetype": "text/x-python",
   "name": "python",
   "nbconvert_exporter": "python",
   "pygments_lexer": "ipython3",
   "version": "3.6.7"
  }
 },
 "nbformat": 4,
 "nbformat_minor": 2
}
