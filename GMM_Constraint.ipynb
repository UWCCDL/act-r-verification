{
 "cells": [
  {
   "cell_type": "markdown",
   "metadata": {},
   "source": [
    "# Mixture of Gaussian with Constraint"
   ]
  },
  {
   "cell_type": "code",
   "execution_count": 37,
   "metadata": {},
   "outputs": [],
   "source": [
    "import matplotlib.pyplot as plt\n",
    "import numpy as np\n",
    "import os\n",
    "import pandas as pd\n",
    "from sklearn.cluster import KMeans\n",
    "from scipy.stats import norm\n",
    "import seaborn as sns; sns.set()"
   ]
  },
  {
   "cell_type": "code",
   "execution_count": 38,
   "metadata": {},
   "outputs": [],
   "source": [
    "def init(n_cluster, std, X):\n",
    "    Phi = np.full((n_cluster, ), 1 / n_cluster)\n",
    "    kmeans = KMeans(n_clusters=n_cluster).fit(X[:, None])\n",
    "    Mu = kmeans.cluster_centers_.reshape(-1,)\n",
    "    return Phi, Mu "
   ]
  },
  {
   "cell_type": "code",
   "execution_count": 39,
   "metadata": {},
   "outputs": [],
   "source": [
    "def normal_pdf(x, mu, sigma):\n",
    "    return 1.0 / (sigma * (2.0 * np.pi)**(1/2)) * np.exp(-1.0 * (x - mu)**2 / (2.0 * (sigma**2)))"
   ]
  },
  {
   "cell_type": "code",
   "execution_count": 40,
   "metadata": {},
   "outputs": [],
   "source": [
    "def e_step(X, Phi, Mu, std):\n",
    "    # w_ij\n",
    "    W = np.zeros((len(X), len(Phi))) \n",
    "    for i, x in enumerate(X):\n",
    "        probs = normal_pdf(x, Mu, std)\n",
    "        W[i, :] = (Phi * probs) / np.sum(Phi * probs)\n",
    "    W = np.nan_to_num(W)\n",
    "    return W"
   ]
  },
  {
   "cell_type": "code",
   "execution_count": 41,
   "metadata": {},
   "outputs": [],
   "source": [
    "def m_step(X, W):\n",
    "    Phi = W.mean(axis=0)\n",
    "    Mu = (W.T * X).T.sum(axis=0) / W.sum(axis=0)\n",
    "    return Phi, Mu"
   ]
  },
  {
   "cell_type": "code",
   "execution_count": 42,
   "metadata": {},
   "outputs": [],
   "source": [
    "def converged(old_Mu, Mu):\n",
    "    return np.allclose(old_Mu, Mu, 0.0001)"
   ]
  },
  {
   "cell_type": "code",
   "execution_count": 43,
   "metadata": {},
   "outputs": [],
   "source": [
    "def em(X, n_cluster, std):\n",
    "    Phi, old_Mu = init(n_cluster, std, X)\n",
    "    Mu = old_Mu + 1\n",
    "    while not converged(old_Mu, Mu):\n",
    "        W = e_step(X, Phi, Mu, std)\n",
    "        old_Mu = Mu.copy()\n",
    "        Phi, Mu = m_step(X, W)\n",
    "        print(\".\", end='')\n",
    "    return W, Phi, Mu"
   ]
  },
  {
   "cell_type": "code",
   "execution_count": 44,
   "metadata": {},
   "outputs": [],
   "source": [
    "def log_likelihood(X, W, Mu, std):\n",
    "    means = Mu[W.argmax(axis=1)]\n",
    "    likes = normal_pdf(X, means, std)\n",
    "    return sum(likes)"
   ]
  },
  {
   "cell_type": "code",
   "execution_count": 45,
   "metadata": {},
   "outputs": [],
   "source": [
    "def GMM_constraint_fit():\n",
    "    result = {}\n",
    "    for d in range(6):\n",
    "        visual_data = data[:, :, d]\n",
    "        likelihood = np.zeros(len(data) * 150).reshape(len(data), 150)\n",
    "        for i in range(len(data)):\n",
    "            previous = 0\n",
    "            for j in range(1, 151):\n",
    "                W, Phi, Mu = em(visual_data[i].reshape(-1, ), j, 1)\n",
    "                new = log_likelihood(visual_data[i].reshape(-1, ), W, Mu, 1)\n",
    "                likelihood[i, j - 1] = new - previous\n",
    "                previous = new\n",
    "                print()\n",
    "        result[str(d)] = np.argmax(likelihood, axis=1)\n",
    "        print(\"one finished\")\n",
    "    df = pd.DataFrame(result)\n",
    "    df.to_csv(\"GMM_fit_constraint.csv\")\n",
    "    return df"
   ]
  },
  {
   "cell_type": "code",
   "execution_count": 46,
   "metadata": {},
   "outputs": [],
   "source": [
    "def extract_data():\n",
    "    data = []\n",
    "    for f in os.listdir(\"PCA_results/\"):\n",
    "        if not f.startswith(\".\") and f.startswith(\"sub\"):\n",
    "            data.append(pd.read_csv(os.path.join(\"PCA_results\", f)).values)\n",
    "    return np.stack(data)"
   ]
  },
  {
   "cell_type": "code",
   "execution_count": 47,
   "metadata": {},
   "outputs": [],
   "source": [
    "data = extract_data()"
   ]
  },
  {
   "cell_type": "code",
   "execution_count": null,
   "metadata": {},
   "outputs": [],
   "source": [
    "result_df = GMM_constraint_fit()"
   ]
  },
  {
   "cell_type": "code",
   "execution_count": null,
   "metadata": {},
   "outputs": [],
   "source": []
  }
 ],
 "metadata": {
  "kernelspec": {
   "display_name": "Python 3",
   "language": "python",
   "name": "python3"
  },
  "language_info": {
   "codemirror_mode": {
    "name": "ipython",
    "version": 3
   },
   "file_extension": ".py",
   "mimetype": "text/x-python",
   "name": "python",
   "nbconvert_exporter": "python",
   "pygments_lexer": "ipython3",
   "version": "3.6.7"
  }
 },
 "nbformat": 4,
 "nbformat_minor": 2
}
