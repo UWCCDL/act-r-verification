{
 "cells": [
  {
   "cell_type": "markdown",
   "metadata": {},
   "source": [
    "# Mixture of Gaussian with Constraint"
   ]
  },
  {
   "cell_type": "code",
   "execution_count": 9,
   "metadata": {},
   "outputs": [],
   "source": [
    "import matplotlib.pyplot as plt\n",
    "import numpy as np\n",
    "from scipy.stats import norm\n",
    "import seaborn as sns; sns.set()"
   ]
  },
  {
   "cell_type": "code",
   "execution_count": 2,
   "metadata": {},
   "outputs": [],
   "source": [
    "def init(n_cluster, std, X):\n",
    "    Phi = np.full((n_cluster, ), 1 / n_cluster)\n",
    "    Mu = np.random.uniform(X.min(), X.max(), size=n_cluster)\n",
    "    print(Mu)\n",
    "    return Phi, Mu "
   ]
  },
  {
   "cell_type": "code",
   "execution_count": 3,
   "metadata": {},
   "outputs": [],
   "source": [
    "def e_step(X, Phi, Mu, std):\n",
    "    # w_ij\n",
    "    W = np.zeros((len(X), len(Phi))) + 1e-14\n",
    "    Norms = [norm(mu, std) for mu in Mu] \n",
    "    for i, x in enumerate(X):\n",
    "        probs = [n.pdf(x) for n in Norms] \n",
    "        W[i, :] = (Phi * probs) / np.sum(Phi * probs)\n",
    "    return W"
   ]
  },
  {
   "cell_type": "code",
   "execution_count": 4,
   "metadata": {},
   "outputs": [],
   "source": [
    "def m_step(X, W):\n",
    "    Phi = W.mean(axis=0)\n",
    "    Mu = (W.T * X).T.sum(axis=0) / W.sum(axis=0)\n",
    "    return Phi, Mu"
   ]
  },
  {
   "cell_type": "code",
   "execution_count": 17,
   "metadata": {},
   "outputs": [],
   "source": [
    "def converged(old_Mu, Mu):\n",
    "    return np.allclose(old_Mu, Mu, 0.0001)"
   ]
  },
  {
   "cell_type": "code",
   "execution_count": 32,
   "metadata": {},
   "outputs": [],
   "source": [
    "def em(X, n_cluster, std):\n",
    "    Phi, old_Mu = init(n_cluster, std, X)\n",
    "    Mu = old_Mu + 1\n",
    "    while not converged(old_Mu, Mu):\n",
    "        W = e_step(X, Phi, Mu, std)\n",
    "        old_Mu = Mu.copy()\n",
    "        Phi, Mu = m_step(X, W)\n",
    "        print(\".\", end='')\n",
    "    return W, Phi, Mu"
   ]
  },
  {
   "cell_type": "code",
   "execution_count": 33,
   "metadata": {},
   "outputs": [],
   "source": [
    "np.random.seed(0)\n",
    "X = np.linspace(-5,5,num=10)\n",
    "X0 = X*np.random.rand(len(X))+20 # Create data cluster 1\n",
    "X1 = X*np.random.rand(len(X))-20 # Create data cluster 2\n",
    "X2 = X*np.random.rand(len(X)) # Create data cluster 3\n",
    "X_tot = np.stack((X0,X1,X2)).flatten() # Combine the clusters to get the random datapoints from above"
   ]
  },
  {
   "cell_type": "code",
   "execution_count": 47,
   "metadata": {},
   "outputs": [
    {
     "name": "stdout",
     "output_type": "stream",
     "text": [
      "[-19.22233668  22.30728267   7.20020568]\n",
      "..."
     ]
    }
   ],
   "source": [
    "W, Phi, Mu = em(X_tot, 3, 1)"
   ]
  },
  {
   "cell_type": "code",
   "execution_count": 50,
   "metadata": {},
   "outputs": [
    {
     "data": {
      "text/plain": [
       "<matplotlib.collections.PathCollection at 0x1a257b61d0>"
      ]
     },
     "execution_count": 50,
     "metadata": {},
     "output_type": "execute_result"
    },
    {
     "data": {
      "image/png": "[encoded data removed]",
      "text/plain": [
       "<Figure size 432x288 with 1 Axes>"
      ]
     },
     "metadata": {},
     "output_type": "display_data"
    }
   ],
   "source": [
    "plt.scatter(X_tot, np.zeros(len(X_tot)))\n",
    "plt.scatter(Mu, [0, 0, 0])"
   ]
  },
  {
   "cell_type": "code",
   "execution_count": null,
   "metadata": {},
   "outputs": [],
   "source": []
  }
 ],
 "metadata": {
  "kernelspec": {
   "display_name": "Python 3",
   "language": "python",
   "name": "python3"
  },
  "language_info": {
   "codemirror_mode": {
    "name": "ipython",
    "version": 3
   },
   "file_extension": ".py",
   "mimetype": "text/x-python",
   "name": "python",
   "nbconvert_exporter": "python",
   "pygments_lexer": "ipython3",
   "version": "3.6.7"
  }
 },
 "nbformat": 4,
 "nbformat_minor": 2
}
