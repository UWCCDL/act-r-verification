{
 "cells": [
  {
   "cell_type": "code",
   "execution_count": 1,
   "metadata": {},
   "outputs": [],
   "source": [
    "import pandas as pd\n",
    "import altair as alt"
   ]
  },
  {
   "cell_type": "code",
   "execution_count": 2,
   "metadata": {},
   "outputs": [],
   "source": [
    "df = pd.read_csv(\"PCA_results/pca_stats.csv\")"
   ]
  },
  {
   "cell_type": "code",
   "execution_count": 3,
   "metadata": {},
   "outputs": [],
   "source": [
    "df.columns = [i[:-7] for i in df.columns]"
   ]
  },
  {
   "cell_type": "code",
   "execution_count": 4,
   "metadata": {},
   "outputs": [],
   "source": [
    "df = df.melt(value_vars=df.columns, value_name=\"variance\", var_name=\"type\")"
   ]
  },
  {
   "cell_type": "code",
   "execution_count": 5,
   "metadata": {},
   "outputs": [],
   "source": [
    "bars = alt.Chart(df, width=600, height=300).mark_bar().encode(\n",
    "    x='type',\n",
    "    y='mean(variance)'\n",
    ")"
   ]
  },
  {
   "cell_type": "code",
   "execution_count": 6,
   "metadata": {},
   "outputs": [],
   "source": [
    "errors = alt.Chart(df, width=600, height=300).mark_rule(color='gray', strokeWidth=2).encode(\n",
    "    x='type',\n",
    "    y=alt.Y('ci0(variance):Q', title='percentage of variance explained'),\n",
    "    y2='ci1(variance):Q'\n",
    ")"
   ]
  },
  {
   "cell_type": "code",
   "execution_count": 10,
   "metadata": {},
   "outputs": [],
   "source": [
    "x = alt.layer(bars, errors).configure_axisX(\n",
    "    labelAngle=30\n",
    ")"
   ]
  },
  {
   "cell_type": "code",
   "execution_count": 11,
   "metadata": {},
   "outputs": [
    {
     "data": {
      "application/vnd.vegalite.v2+json": {
       "$schema": "https://vega.github.io/schema/vega-lite/v2.6.0.json",
       "config": {
        "axisX": {
         "labelAngle": 30
        },
        "view": {
         "height": 300,
         "width": 400
        }
       },
       "datasets": {
        "data-1a58707fb1e251719555d4ef4d966c31": [
         {
          "type": "manual",
          "variance": 0.8206791445907351
         },
         {
          "type": "manual",
          "variance": 0.9320168358951773
         },
         {
          "type": "manual",
          "variance": 0.8502030269740702
         },
         {
          "type": "manual",
          "variance": 0.9139155484475848
         },
         {
          "type": "manual",
          "variance": 0.9078091839233694
         },
         {
          "type": "manual",
          "variance": 0.9169473540790566
         },
         {
          "type": "manual",
          "variance": 0.9134308448232727
         },
         {
          "type": "manual",
          "variance": 0.8902758414542079
         },
         {
          "type": "manual",
          "variance": 0.7527555852484301
         },
         {
          "type": "manual",
          "variance": 0.8784890739195552
         },
         {
          "type": "manual",
          "variance": 0.9305723682811602
         },
         {
          "type": "manual",
          "variance": 0.8512210073033158
         },
         {
          "type": "manual",
          "variance": 0.9123296723736602
         },
         {
          "type": "manual",
          "variance": 0.9031142694079376
         },
         {
          "type": "manual",
          "variance": 0.9127006622402052
         },
         {
          "type": "manual",
          "variance": 0.8571655612509013
         },
         {
          "type": "manual",
          "variance": 0.8687441701450391
         },
         {
          "type": "manual",
          "variance": 0.8736093398609606
         },
         {
          "type": "manual",
          "variance": 0.902819712709814
         },
         {
          "type": "manual",
          "variance": 0.8305812025797145
         },
         {
          "type": "manual",
          "variance": 0.8869013586323992
         },
         {
          "type": "manual",
          "variance": 0.8498801760032191
         },
         {
          "type": "manual",
          "variance": 0.9036949228691052
         },
         {
          "type": "manual",
          "variance": 0.8037502603070528
         },
         {
          "type": "manual",
          "variance": 0.9045568272895418
         },
         {
          "type": "manual",
          "variance": 0.8051592178277329
         },
         {
          "type": "manual",
          "variance": 0.8809870260509078
         },
         {
          "type": "manual",
          "variance": 0.7372571380573082
         },
         {
          "type": "goal",
          "variance": 0.8780413145815489
         },
         {
          "type": "goal",
          "variance": 0.9508837141813754
         },
         {
          "type": "goal",
          "variance": 0.9228164728705316
         },
         {
          "type": "goal",
          "variance": 0.9313309357545824
         },
         {
          "type": "goal",
          "variance": 0.906553424161658
         },
         {
          "type": "goal",
          "variance": 0.9555395055656024
         },
         {
          "type": "goal",
          "variance": 0.8911560457016398
         },
         {
          "type": "goal",
          "variance": 0.9048196207396147
         },
         {
          "type": "goal",
          "variance": 0.9234491653611911
         },
         {
          "type": "goal",
          "variance": 0.9341959104510784
         },
         {
          "type": "goal",
          "variance": 0.9555202518907366
         },
         {
          "type": "goal",
          "variance": 0.9297179210092068
         },
         {
          "type": "goal",
          "variance": 0.9193413678477428
         },
         {
          "type": "goal",
          "variance": 0.9816400591240121
         },
         {
          "type": "goal",
          "variance": 0.8616383320835468
         },
         {
          "type": "goal",
          "variance": 0.8305428746384598
         },
         {
          "type": "goal",
          "variance": 0.9279903447444546
         },
         {
          "type": "goal",
          "variance": 0.8505285163223565
         },
         {
          "type": "goal",
          "variance": 0.9383665884168094
         },
         {
          "type": "goal",
          "variance": 0.9121496485864043
         },
         {
          "type": "goal",
          "variance": 0.8941893315934585
         },
         {
          "type": "goal",
          "variance": 0.8293429930936917
         },
         {
          "type": "goal",
          "variance": 0.9536997977557417
         },
         {
          "type": "goal",
          "variance": 0.9291337403393432
         },
         {
          "type": "goal",
          "variance": 0.8852230561363942
         },
         {
          "type": "goal",
          "variance": 0.913194316853188
         },
         {
          "type": "goal",
          "variance": 0.9387826884176059
         },
         {
          "type": "goal",
          "variance": 0.8900485925715924
         },
         {
          "type": "imaginal",
          "variance": 0.8268686480418975
         },
         {
          "type": "imaginal",
          "variance": 0.907891089896822
         },
         {
          "type": "imaginal",
          "variance": 0.8168563048900774
         },
         {
          "type": "imaginal",
          "variance": 0.9113753341829576
         },
         {
          "type": "imaginal",
          "variance": 0.8564739951697342
         },
         {
          "type": "imaginal",
          "variance": 0.9158013548493597
         },
         {
          "type": "imaginal",
          "variance": 0.8628269774391946
         },
         {
          "type": "imaginal",
          "variance": 0.9270909076678864
         },
         {
          "type": "imaginal",
          "variance": 0.8726891112111397
         },
         {
          "type": "imaginal",
          "variance": 0.9567095366772116
         },
         {
          "type": "imaginal",
          "variance": 0.9396045833109624
         },
         {
          "type": "imaginal",
          "variance": 0.8465961502437724
         },
         {
          "type": "imaginal",
          "variance": 0.7308089457492429
         },
         {
          "type": "imaginal",
          "variance": 0.8575977758298617
         },
         {
          "type": "imaginal",
          "variance": 0.9410070040269288
         },
         {
          "type": "imaginal",
          "variance": 0.9129422950933485
         },
         {
          "type": "imaginal",
          "variance": 0.9015430709445944
         },
         {
          "type": "imaginal",
          "variance": 0.8586386205531517
         },
         {
          "type": "imaginal",
          "variance": 0.9023172380249818
         },
         {
          "type": "imaginal",
          "variance": 0.9231193592784638
         },
         {
          "type": "imaginal",
          "variance": 0.9244250614491228
         },
         {
          "type": "imaginal",
          "variance": 0.6739522186064723
         },
         {
          "type": "imaginal",
          "variance": 0.8176923355918192
         },
         {
          "type": "imaginal",
          "variance": 0.9227786646703487
         },
         {
          "type": "imaginal",
          "variance": 0.8663792278493594
         },
         {
          "type": "imaginal",
          "variance": 0.8435799486788454
         },
         {
          "type": "imaginal",
          "variance": 0.9283892459992532
         },
         {
          "type": "imaginal",
          "variance": 0.8136197473533471
         },
         {
          "type": "visual",
          "variance": 0.6969235816698683
         },
         {
          "type": "visual",
          "variance": 0.9475827152729548
         },
         {
          "type": "visual",
          "variance": 0.7525941434779941
         },
         {
          "type": "visual",
          "variance": 0.8446051798172367
         },
         {
          "type": "visual",
          "variance": 0.7165805222967148
         },
         {
          "type": "visual",
          "variance": 0.7760214200667281
         },
         {
          "type": "visual",
          "variance": 0.7826867829529452
         },
         {
          "type": "visual",
          "variance": 0.8781157772308263
         },
         {
          "type": "visual",
          "variance": 0.7702518680173569
         },
         {
          "type": "visual",
          "variance": 0.8803041589197362
         },
         {
          "type": "visual",
          "variance": 0.9377874549047625
         },
         {
          "type": "visual",
          "variance": 0.5686015074179344
         },
         {
          "type": "visual",
          "variance": 0.4616488350223429
         },
         {
          "type": "visual",
          "variance": 0.8377375158175816
         },
         {
          "type": "visual",
          "variance": 0.7967913553708909
         },
         {
          "type": "visual",
          "variance": 0.8773788610827189
         },
         {
          "type": "visual",
          "variance": 0.8513391687815071
         },
         {
          "type": "visual",
          "variance": 0.8961824137439872
         },
         {
          "type": "visual",
          "variance": 0.8371990264435496
         },
         {
          "type": "visual",
          "variance": 0.8348838600368202
         },
         {
          "type": "visual",
          "variance": 0.8746811669334486
         },
         {
          "type": "visual",
          "variance": 0.5939111957814129
         },
         {
          "type": "visual",
          "variance": 0.8976888477364147
         },
         {
          "type": "visual",
          "variance": 0.8147720914103733
         },
         {
          "type": "visual",
          "variance": 0.8016754588032309
         },
         {
          "type": "visual",
          "variance": 0.8349705062173229
         },
         {
          "type": "visual",
          "variance": 0.8183157953207219
         },
         {
          "type": "visual",
          "variance": 0.6959213468531621
         },
         {
          "type": "procedual",
          "variance": 0.7240352212036427
         },
         {
          "type": "procedual",
          "variance": 0.7916691337788379
         },
         {
          "type": "procedual",
          "variance": 0.8916588604253265
         },
         {
          "type": "procedual",
          "variance": 0.7772085665842149
         },
         {
          "type": "procedual",
          "variance": 0.7338566615759436
         },
         {
          "type": "procedual",
          "variance": 0.8107690892844085
         },
         {
          "type": "procedual",
          "variance": 0.7262448842760331
         },
         {
          "type": "procedual",
          "variance": 0.7401715354086421
         },
         {
          "type": "procedual",
          "variance": 0.7704418217415211
         },
         {
          "type": "procedual",
          "variance": 0.8898953844555374
         },
         {
          "type": "procedual",
          "variance": 0.8161267707289838
         },
         {
          "type": "procedual",
          "variance": 0.7605560451066209
         },
         {
          "type": "procedual",
          "variance": 0.7084432216601672
         },
         {
          "type": "procedual",
          "variance": 0.6310654632236953
         },
         {
          "type": "procedual",
          "variance": 0.8396811632456778
         },
         {
          "type": "procedual",
          "variance": 0.6980640739403257
         },
         {
          "type": "procedual",
          "variance": 0.7942177286327804
         },
         {
          "type": "procedual",
          "variance": 0.6582542252713155
         },
         {
          "type": "procedual",
          "variance": 0.8363565644934092
         },
         {
          "type": "procedual",
          "variance": 0.7576845408962526
         },
         {
          "type": "procedual",
          "variance": 0.769781729663912
         },
         {
          "type": "procedual",
          "variance": 0.6574115189424835
         },
         {
          "type": "procedual",
          "variance": 0.8510124328291444
         },
         {
          "type": "procedual",
          "variance": 0.8182781405260475
         },
         {
          "type": "procedual",
          "variance": 0.7627660831190421
         },
         {
          "type": "procedual",
          "variance": 0.7693083039205616
         },
         {
          "type": "procedual",
          "variance": 0.8431814678771747
         },
         {
          "type": "procedual",
          "variance": 0.7188734097044386
         },
         {
          "type": "retrieval",
          "variance": 0.8024174585444932
         },
         {
          "type": "retrieval",
          "variance": 0.7591304605839836
         },
         {
          "type": "retrieval",
          "variance": 0.8711068471608758
         },
         {
          "type": "retrieval",
          "variance": 0.866803594541567
         },
         {
          "type": "retrieval",
          "variance": 0.8529128337468697
         },
         {
          "type": "retrieval",
          "variance": 0.8592709554036958
         },
         {
          "type": "retrieval",
          "variance": 0.7411964265777327
         },
         {
          "type": "retrieval",
          "variance": 0.842852909785582
         },
         {
          "type": "retrieval",
          "variance": 0.7292872442685204
         },
         {
          "type": "retrieval",
          "variance": 0.8695239805603849
         },
         {
          "type": "retrieval",
          "variance": 0.8332224747642669
         },
         {
          "type": "retrieval",
          "variance": 0.7688691732365087
         },
         {
          "type": "retrieval",
          "variance": 0.6643337566595158
         },
         {
          "type": "retrieval",
          "variance": 0.8221718404146703
         },
         {
          "type": "retrieval",
          "variance": 0.8918817219993906
         },
         {
          "type": "retrieval",
          "variance": 0.83844014604833
         },
         {
          "type": "retrieval",
          "variance": 0.8574552877405525
         },
         {
          "type": "retrieval",
          "variance": 0.7710168198349753
         },
         {
          "type": "retrieval",
          "variance": 0.7790994798370515
         },
         {
          "type": "retrieval",
          "variance": 0.8308119443638007
         },
         {
          "type": "retrieval",
          "variance": 0.8518948818100771
         },
         {
          "type": "retrieval",
          "variance": 0.8174274037752112
         },
         {
          "type": "retrieval",
          "variance": 0.8389562245695182
         },
         {
          "type": "retrieval",
          "variance": 0.8587999359747138
         },
         {
          "type": "retrieval",
          "variance": 0.7617291983829495
         },
         {
          "type": "retrieval",
          "variance": 0.8489456016755039
         },
         {
          "type": "retrieval",
          "variance": 0.914921993171622
         },
         {
          "type": "retrieval",
          "variance": 0.7635826428266338
         }
        ]
       },
       "layer": [
        {
         "data": {
          "name": "data-1a58707fb1e251719555d4ef4d966c31"
         },
         "encoding": {
          "x": {
           "field": "type",
           "type": "nominal"
          },
          "y": {
           "aggregate": "mean",
           "field": "variance",
           "type": "quantitative"
          }
         },
         "height": 300,
         "mark": "bar",
         "width": 600
        },
        {
         "data": {
          "name": "data-1a58707fb1e251719555d4ef4d966c31"
         },
         "encoding": {
          "x": {
           "field": "type",
           "type": "nominal"
          },
          "y": {
           "aggregate": "ci0",
           "field": "variance",
           "title": "percentage of variance explained",
           "type": "quantitative"
          },
          "y2": {
           "aggregate": "ci1",
           "field": "variance",
           "type": "quantitative"
          }
         },
         "height": 300,
         "mark": {
          "color": "gray",
          "strokeWidth": 2,
          "type": "rule"
         },
         "width": 600
        }
       ]
      },
      "image/png": "[encoded data removed]",
      "text/plain": [
       "<VegaLite 2 object>\n",
       "\n",
       "If you see this message, it means the renderer has not been properly enabled\n",
       "for the frontend that you are using. For more information, see\n",
       "https://altair-viz.github.io/user_guide/troubleshooting.html\n"
      ]
     },
     "execution_count": 11,
     "metadata": {},
     "output_type": "execute_result"
    }
   ],
   "source": [
    "x"
   ]
  },
  {
   "cell_type": "code",
   "execution_count": 26,
   "metadata": {},
   "outputs": [],
   "source": [
    "df = pd.read_csv(\"GMM_fit.csv\")"
   ]
  },
  {
   "cell_type": "code",
   "execution_count": 27,
   "metadata": {},
   "outputs": [],
   "source": [
    "df = df.melt(value_vars=df.columns, value_name=\"number_of_components\", var_name=\"type\")"
   ]
  },
  {
   "cell_type": "code",
   "execution_count": 36,
   "metadata": {},
   "outputs": [],
   "source": [
    "bars = alt.Chart(df, width=600, height=300).mark_point().encode(\n",
    "    x='type',\n",
    "    y='number_of_components'\n",
    ")"
   ]
  },
  {
   "cell_type": "code",
   "execution_count": 40,
   "metadata": {},
   "outputs": [],
   "source": [
    "reddy = alt.Chart(df, width=600, height=300).mark_point(color='red').encode(\n",
    "    x='type',\n",
    "    y='mean(number_of_components)'\n",
    ")"
   ]
  },
  {
   "cell_type": "code",
   "execution_count": 51,
   "metadata": {},
   "outputs": [],
   "source": [
    "reddy_line = alt.Chart(df, width=600, height=300).mark_line(color='red').encode(\n",
    "    x='type',\n",
    "    y=alt.Y('mean(number_of_components)', title='Best Number of Components')\n",
    ")"
   ]
  },
  {
   "cell_type": "code",
   "execution_count": 37,
   "metadata": {},
   "outputs": [],
   "source": [
    "errors = alt.Chart(df, width=600, height=300).mark_rule(color='gray', strokeWidth=2).encode(\n",
    "    x='type',\n",
    "    y=alt.Y('ci0(number_of_components):Q', title='Best Number of Components'),\n",
    "    y2='ci1(number_of_components):Q'\n",
    ")"
   ]
  },
  {
   "cell_type": "code",
   "execution_count": 52,
   "metadata": {},
   "outputs": [],
   "source": [
    "x = alt.layer(bars, reddy, reddy_line).configure_axisX(\n",
    "    labelAngle=30\n",
    ")"
   ]
  },
  {
   "cell_type": "code",
   "execution_count": 53,
   "metadata": {},
   "outputs": [
    {
     "data": {
      "application/vnd.vegalite.v2+json": {
       "$schema": "https://vega.github.io/schema/vega-lite/v2.6.0.json",
       "config": {
        "axisX": {
         "labelAngle": 30
        },
        "view": {
         "height": 300,
         "width": 400
        }
       },
       "datasets": {
        "data-b20b1a54829b3b5e01d56c6196cf7505": [
         {
          "number_of_components": 147,
          "type": "manual"
         },
         {
          "number_of_components": 111,
          "type": "manual"
         },
         {
          "number_of_components": 138,
          "type": "manual"
         },
         {
          "number_of_components": 80,
          "type": "manual"
         },
         {
          "number_of_components": 132,
          "type": "manual"
         },
         {
          "number_of_components": 140,
          "type": "manual"
         },
         {
          "number_of_components": 113,
          "type": "manual"
         },
         {
          "number_of_components": 100,
          "type": "manual"
         },
         {
          "number_of_components": 70,
          "type": "manual"
         },
         {
          "number_of_components": 118,
          "type": "manual"
         },
         {
          "number_of_components": 115,
          "type": "manual"
         },
         {
          "number_of_components": 135,
          "type": "manual"
         },
         {
          "number_of_components": 60,
          "type": "manual"
         },
         {
          "number_of_components": 147,
          "type": "manual"
         },
         {
          "number_of_components": 137,
          "type": "manual"
         },
         {
          "number_of_components": 76,
          "type": "manual"
         },
         {
          "number_of_components": 110,
          "type": "manual"
         },
         {
          "number_of_components": 1,
          "type": "manual"
         },
         {
          "number_of_components": 101,
          "type": "manual"
         },
         {
          "number_of_components": 46,
          "type": "manual"
         },
         {
          "number_of_components": 133,
          "type": "manual"
         },
         {
          "number_of_components": 109,
          "type": "manual"
         },
         {
          "number_of_components": 111,
          "type": "manual"
         },
         {
          "number_of_components": 142,
          "type": "manual"
         },
         {
          "number_of_components": 140,
          "type": "manual"
         },
         {
          "number_of_components": 127,
          "type": "manual"
         },
         {
          "number_of_components": 114,
          "type": "manual"
         },
         {
          "number_of_components": 120,
          "type": "manual"
         },
         {
          "number_of_components": 84,
          "type": "goal"
         },
         {
          "number_of_components": 109,
          "type": "goal"
         },
         {
          "number_of_components": 137,
          "type": "goal"
         },
         {
          "number_of_components": 68,
          "type": "goal"
         },
         {
          "number_of_components": 110,
          "type": "goal"
         },
         {
          "number_of_components": 145,
          "type": "goal"
         },
         {
          "number_of_components": 124,
          "type": "goal"
         },
         {
          "number_of_components": 123,
          "type": "goal"
         },
         {
          "number_of_components": 132,
          "type": "goal"
         },
         {
          "number_of_components": 95,
          "type": "goal"
         },
         {
          "number_of_components": 141,
          "type": "goal"
         },
         {
          "number_of_components": 83,
          "type": "goal"
         },
         {
          "number_of_components": 104,
          "type": "goal"
         },
         {
          "number_of_components": 139,
          "type": "goal"
         },
         {
          "number_of_components": 113,
          "type": "goal"
         },
         {
          "number_of_components": 100,
          "type": "goal"
         },
         {
          "number_of_components": 89,
          "type": "goal"
         },
         {
          "number_of_components": 135,
          "type": "goal"
         },
         {
          "number_of_components": 101,
          "type": "goal"
         },
         {
          "number_of_components": 129,
          "type": "goal"
         },
         {
          "number_of_components": 102,
          "type": "goal"
         },
         {
          "number_of_components": 117,
          "type": "goal"
         },
         {
          "number_of_components": 109,
          "type": "goal"
         },
         {
          "number_of_components": 128,
          "type": "goal"
         },
         {
          "number_of_components": 96,
          "type": "goal"
         },
         {
          "number_of_components": 127,
          "type": "goal"
         },
         {
          "number_of_components": 45,
          "type": "goal"
         },
         {
          "number_of_components": 85,
          "type": "goal"
         },
         {
          "number_of_components": 101,
          "type": "imaginal"
         },
         {
          "number_of_components": 105,
          "type": "imaginal"
         },
         {
          "number_of_components": 126,
          "type": "imaginal"
         },
         {
          "number_of_components": 130,
          "type": "imaginal"
         },
         {
          "number_of_components": 149,
          "type": "imaginal"
         },
         {
          "number_of_components": 122,
          "type": "imaginal"
         },
         {
          "number_of_components": 102,
          "type": "imaginal"
         },
         {
          "number_of_components": 135,
          "type": "imaginal"
         },
         {
          "number_of_components": 123,
          "type": "imaginal"
         },
         {
          "number_of_components": 149,
          "type": "imaginal"
         },
         {
          "number_of_components": 135,
          "type": "imaginal"
         },
         {
          "number_of_components": 94,
          "type": "imaginal"
         },
         {
          "number_of_components": 80,
          "type": "imaginal"
         },
         {
          "number_of_components": 145,
          "type": "imaginal"
         },
         {
          "number_of_components": 104,
          "type": "imaginal"
         },
         {
          "number_of_components": 80,
          "type": "imaginal"
         },
         {
          "number_of_components": 103,
          "type": "imaginal"
         },
         {
          "number_of_components": 54,
          "type": "imaginal"
         },
         {
          "number_of_components": 110,
          "type": "imaginal"
         },
         {
          "number_of_components": 101,
          "type": "imaginal"
         },
         {
          "number_of_components": 141,
          "type": "imaginal"
         },
         {
          "number_of_components": 62,
          "type": "imaginal"
         },
         {
          "number_of_components": 147,
          "type": "imaginal"
         },
         {
          "number_of_components": 147,
          "type": "imaginal"
         },
         {
          "number_of_components": 93,
          "type": "imaginal"
         },
         {
          "number_of_components": 88,
          "type": "imaginal"
         },
         {
          "number_of_components": 88,
          "type": "imaginal"
         },
         {
          "number_of_components": 127,
          "type": "imaginal"
         },
         {
          "number_of_components": 105,
          "type": "visual"
         },
         {
          "number_of_components": 77,
          "type": "visual"
         },
         {
          "number_of_components": 127,
          "type": "visual"
         },
         {
          "number_of_components": 105,
          "type": "visual"
         },
         {
          "number_of_components": 55,
          "type": "visual"
         },
         {
          "number_of_components": 120,
          "type": "visual"
         },
         {
          "number_of_components": 128,
          "type": "visual"
         },
         {
          "number_of_components": 119,
          "type": "visual"
         },
         {
          "number_of_components": 130,
          "type": "visual"
         },
         {
          "number_of_components": 135,
          "type": "visual"
         },
         {
          "number_of_components": 79,
          "type": "visual"
         },
         {
          "number_of_components": 132,
          "type": "visual"
         },
         {
          "number_of_components": 126,
          "type": "visual"
         },
         {
          "number_of_components": 136,
          "type": "visual"
         },
         {
          "number_of_components": 118,
          "type": "visual"
         },
         {
          "number_of_components": 71,
          "type": "visual"
         },
         {
          "number_of_components": 74,
          "type": "visual"
         },
         {
          "number_of_components": 126,
          "type": "visual"
         },
         {
          "number_of_components": 1,
          "type": "visual"
         },
         {
          "number_of_components": 82,
          "type": "visual"
         },
         {
          "number_of_components": 77,
          "type": "visual"
         },
         {
          "number_of_components": 102,
          "type": "visual"
         },
         {
          "number_of_components": 126,
          "type": "visual"
         },
         {
          "number_of_components": 118,
          "type": "visual"
         },
         {
          "number_of_components": 132,
          "type": "visual"
         },
         {
          "number_of_components": 126,
          "type": "visual"
         },
         {
          "number_of_components": 137,
          "type": "visual"
         },
         {
          "number_of_components": 149,
          "type": "visual"
         },
         {
          "number_of_components": 1,
          "type": "procedual"
         },
         {
          "number_of_components": 97,
          "type": "procedual"
         },
         {
          "number_of_components": 113,
          "type": "procedual"
         },
         {
          "number_of_components": 104,
          "type": "procedual"
         },
         {
          "number_of_components": 133,
          "type": "procedual"
         },
         {
          "number_of_components": 138,
          "type": "procedual"
         },
         {
          "number_of_components": 67,
          "type": "procedual"
         },
         {
          "number_of_components": 124,
          "type": "procedual"
         },
         {
          "number_of_components": 144,
          "type": "procedual"
         },
         {
          "number_of_components": 129,
          "type": "procedual"
         },
         {
          "number_of_components": 54,
          "type": "procedual"
         },
         {
          "number_of_components": 143,
          "type": "procedual"
         },
         {
          "number_of_components": 135,
          "type": "procedual"
         },
         {
          "number_of_components": 142,
          "type": "procedual"
         },
         {
          "number_of_components": 109,
          "type": "procedual"
         },
         {
          "number_of_components": 143,
          "type": "procedual"
         },
         {
          "number_of_components": 85,
          "type": "procedual"
         },
         {
          "number_of_components": 134,
          "type": "procedual"
         },
         {
          "number_of_components": 143,
          "type": "procedual"
         },
         {
          "number_of_components": 148,
          "type": "procedual"
         },
         {
          "number_of_components": 91,
          "type": "procedual"
         },
         {
          "number_of_components": 57,
          "type": "procedual"
         },
         {
          "number_of_components": 68,
          "type": "procedual"
         },
         {
          "number_of_components": 149,
          "type": "procedual"
         },
         {
          "number_of_components": 136,
          "type": "procedual"
         },
         {
          "number_of_components": 131,
          "type": "procedual"
         },
         {
          "number_of_components": 108,
          "type": "procedual"
         },
         {
          "number_of_components": 147,
          "type": "procedual"
         },
         {
          "number_of_components": 37,
          "type": "retrieval"
         },
         {
          "number_of_components": 114,
          "type": "retrieval"
         },
         {
          "number_of_components": 142,
          "type": "retrieval"
         },
         {
          "number_of_components": 107,
          "type": "retrieval"
         },
         {
          "number_of_components": 97,
          "type": "retrieval"
         },
         {
          "number_of_components": 127,
          "type": "retrieval"
         },
         {
          "number_of_components": 116,
          "type": "retrieval"
         },
         {
          "number_of_components": 115,
          "type": "retrieval"
         },
         {
          "number_of_components": 122,
          "type": "retrieval"
         },
         {
          "number_of_components": 141,
          "type": "retrieval"
         },
         {
          "number_of_components": 148,
          "type": "retrieval"
         },
         {
          "number_of_components": 142,
          "type": "retrieval"
         },
         {
          "number_of_components": 38,
          "type": "retrieval"
         },
         {
          "number_of_components": 118,
          "type": "retrieval"
         },
         {
          "number_of_components": 136,
          "type": "retrieval"
         },
         {
          "number_of_components": 136,
          "type": "retrieval"
         },
         {
          "number_of_components": 73,
          "type": "retrieval"
         },
         {
          "number_of_components": 73,
          "type": "retrieval"
         },
         {
          "number_of_components": 144,
          "type": "retrieval"
         },
         {
          "number_of_components": 90,
          "type": "retrieval"
         },
         {
          "number_of_components": 137,
          "type": "retrieval"
         },
         {
          "number_of_components": 146,
          "type": "retrieval"
         },
         {
          "number_of_components": 101,
          "type": "retrieval"
         },
         {
          "number_of_components": 142,
          "type": "retrieval"
         },
         {
          "number_of_components": 116,
          "type": "retrieval"
         },
         {
          "number_of_components": 114,
          "type": "retrieval"
         },
         {
          "number_of_components": 124,
          "type": "retrieval"
         },
         {
          "number_of_components": 149,
          "type": "retrieval"
         }
        ]
       },
       "layer": [
        {
         "data": {
          "name": "data-b20b1a54829b3b5e01d56c6196cf7505"
         },
         "encoding": {
          "x": {
           "field": "type",
           "type": "nominal"
          },
          "y": {
           "field": "number_of_components",
           "type": "quantitative"
          }
         },
         "height": 300,
         "mark": "point",
         "width": 600
        },
        {
         "data": {
          "name": "data-b20b1a54829b3b5e01d56c6196cf7505"
         },
         "encoding": {
          "x": {
           "field": "type",
           "type": "nominal"
          },
          "y": {
           "aggregate": "mean",
           "field": "number_of_components",
           "type": "quantitative"
          }
         },
         "height": 300,
         "mark": {
          "color": "red",
          "type": "point"
         },
         "width": 600
        },
        {
         "data": {
          "name": "data-b20b1a54829b3b5e01d56c6196cf7505"
         },
         "encoding": {
          "x": {
           "field": "type",
           "type": "nominal"
          },
          "y": {
           "aggregate": "mean",
           "field": "number_of_components",
           "title": "Best Number of Components",
           "type": "quantitative"
          }
         },
         "height": 300,
         "mark": {
          "color": "red",
          "type": "line"
         },
         "width": 600
        }
       ]
      },
      "image/png": "[encoded data removed]",
      "text/plain": [
       "<VegaLite 2 object>\n",
       "\n",
       "If you see this message, it means the renderer has not been properly enabled\n",
       "for the frontend that you are using. For more information, see\n",
       "https://altair-viz.github.io/user_guide/troubleshooting.html\n"
      ]
     },
     "execution_count": 53,
     "metadata": {},
     "output_type": "execute_result"
    }
   ],
   "source": [
    "x"
   ]
  },
  {
   "cell_type": "code",
   "execution_count": null,
   "metadata": {},
   "outputs": [],
   "source": []
  }
 ],
 "metadata": {
  "kernelspec": {
   "display_name": "Python 3",
   "language": "python",
   "name": "python3"
  },
  "language_info": {
   "codemirror_mode": {
    "name": "ipython",
    "version": 3
   },
   "file_extension": ".py",
   "mimetype": "text/x-python",
   "name": "python",
   "nbconvert_exporter": "python",
   "pygments_lexer": "ipython3",
   "version": "3.7.0"
  }
 },
 "nbformat": 4,
 "nbformat_minor": 2
}
