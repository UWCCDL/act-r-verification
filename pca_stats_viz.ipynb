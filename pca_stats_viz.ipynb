{
 "cells": [
  {
   "cell_type": "code",
   "execution_count": 5,
   "metadata": {},
   "outputs": [],
   "source": [
    "import pandas as pd\n",
    "import altair as alt"
   ]
  },
  {
   "cell_type": "code",
   "execution_count": 34,
   "metadata": {},
   "outputs": [],
   "source": [
    "df = pd.read_csv(\"PCA_results/pca_stats.csv\")"
   ]
  },
  {
   "cell_type": "code",
   "execution_count": 36,
   "metadata": {},
   "outputs": [],
   "source": [
    "df.columns = [i[:-7] for i in df.columns]"
   ]
  },
  {
   "cell_type": "code",
   "execution_count": 37,
   "metadata": {},
   "outputs": [],
   "source": [
    "df = df.melt(value_vars=df.columns, value_name=\"variance\", var_name=\"type\")"
   ]
  },
  {
   "cell_type": "code",
   "execution_count": 50,
   "metadata": {},
   "outputs": [],
   "source": [
    "bars = alt.Chart(df, width=600, height=300).mark_bar().encode(\n",
    "    x='type',\n",
    "    y='mean(variance)'\n",
    ")"
   ]
  },
  {
   "cell_type": "code",
   "execution_count": 55,
   "metadata": {},
   "outputs": [],
   "source": [
    "errors = alt.Chart(df, width=600, height=300).mark_rule(color='gray', strokeWidth=2).encode(\n",
    "    x='type',\n",
    "    y='ci0(variance):Q',\n",
    "    y2='ci1(variance):Q'\n",
    ")"
   ]
  },
  {
   "cell_type": "code",
   "execution_count": 56,
   "metadata": {},
   "outputs": [
    {
     "data": {
      "application/vnd.vegalite.v2+json": {
       "$schema": "https://vega.github.io/schema/vega-lite/v2.6.0.json",
       "config": {
        "view": {
         "height": 300,
         "width": 400
        }
       },
       "datasets": {
        "data-277cf55920df78599c442bc413ab8450": [
         {
          "type": "left_imaginal",
          "variance": 0.8268686480418975
         },
         {
          "type": "left_imaginal",
          "variance": 0.907891089896822
         },
         {
          "type": "left_imaginal",
          "variance": 0.8168563048900774
         },
         {
          "type": "left_imaginal",
          "variance": 0.9113753341829576
         },
         {
          "type": "left_imaginal",
          "variance": 0.8564739951697342
         },
         {
          "type": "left_imaginal",
          "variance": 0.9158013548493597
         },
         {
          "type": "left_imaginal",
          "variance": 0.8628269774391946
         },
         {
          "type": "left_imaginal",
          "variance": 0.9270909076678864
         },
         {
          "type": "left_imaginal",
          "variance": 0.8726891112111397
         },
         {
          "type": "left_imaginal",
          "variance": 0.9567095366772116
         },
         {
          "type": "left_imaginal",
          "variance": 0.9396045833109624
         },
         {
          "type": "left_imaginal",
          "variance": 0.8465961502437724
         },
         {
          "type": "left_imaginal",
          "variance": 0.7308089457492429
         },
         {
          "type": "left_imaginal",
          "variance": 0.8575977758298617
         },
         {
          "type": "left_imaginal",
          "variance": 0.9410070040269288
         },
         {
          "type": "left_imaginal",
          "variance": 0.9129422950933485
         },
         {
          "type": "left_imaginal",
          "variance": 0.9015430709445944
         },
         {
          "type": "left_imaginal",
          "variance": 0.8586386205531517
         },
         {
          "type": "left_imaginal",
          "variance": 0.9023172380249818
         },
         {
          "type": "left_imaginal",
          "variance": 0.9231193592784638
         },
         {
          "type": "left_imaginal",
          "variance": 0.9244250614491228
         },
         {
          "type": "left_imaginal",
          "variance": 0.6739522186064723
         },
         {
          "type": "left_imaginal",
          "variance": 0.8176923355918192
         },
         {
          "type": "left_imaginal",
          "variance": 0.9227786646703487
         },
         {
          "type": "left_imaginal",
          "variance": 0.8663792278493594
         },
         {
          "type": "left_imaginal",
          "variance": 0.8435799486788454
         },
         {
          "type": "left_imaginal",
          "variance": 0.9283892459992532
         },
         {
          "type": "left_imaginal",
          "variance": 0.8136197473533471
         },
         {
          "type": "right_imaginal",
          "variance": 0.7753750941400304
         },
         {
          "type": "right_imaginal",
          "variance": 0.8480791274229018
         },
         {
          "type": "right_imaginal",
          "variance": 0.8331054866771196
         },
         {
          "type": "right_imaginal",
          "variance": 0.8652969576598051
         },
         {
          "type": "right_imaginal",
          "variance": 0.9342412008164231
         },
         {
          "type": "right_imaginal",
          "variance": 0.884783349260208
         },
         {
          "type": "right_imaginal",
          "variance": 0.8160395420600307
         },
         {
          "type": "right_imaginal",
          "variance": 0.9440610929934168
         },
         {
          "type": "right_imaginal",
          "variance": 0.8152644359867235
         },
         {
          "type": "right_imaginal",
          "variance": 0.9311482723369776
         },
         {
          "type": "right_imaginal",
          "variance": 0.9312576869766066
         },
         {
          "type": "right_imaginal",
          "variance": 0.7938068162209204
         },
         {
          "type": "right_imaginal",
          "variance": 0.7983722748809226
         },
         {
          "type": "right_imaginal",
          "variance": 0.9470705456215988
         },
         {
          "type": "right_imaginal",
          "variance": 0.9075954087144736
         },
         {
          "type": "right_imaginal",
          "variance": 0.9270603374217627
         },
         {
          "type": "right_imaginal",
          "variance": 0.8816792241001986
         },
         {
          "type": "right_imaginal",
          "variance": 0.8550167748963572
         },
         {
          "type": "right_imaginal",
          "variance": 0.8842963485714922
         },
         {
          "type": "right_imaginal",
          "variance": 0.8985584093338286
         },
         {
          "type": "right_imaginal",
          "variance": 0.9299079585160612
         },
         {
          "type": "right_imaginal",
          "variance": 0.8098868653138441
         },
         {
          "type": "right_imaginal",
          "variance": 0.8570394300041742
         },
         {
          "type": "right_imaginal",
          "variance": 0.913556458959626
         },
         {
          "type": "right_imaginal",
          "variance": 0.7888027757970201
         },
         {
          "type": "right_imaginal",
          "variance": 0.8879411302002499
         },
         {
          "type": "right_imaginal",
          "variance": 0.8943734145358447
         },
         {
          "type": "right_imaginal",
          "variance": 0.8000518817988245
         },
         {
          "type": "left_retrieval",
          "variance": 0.8024174585444932
         },
         {
          "type": "left_retrieval",
          "variance": 0.7591304605839836
         },
         {
          "type": "left_retrieval",
          "variance": 0.8711068471608758
         },
         {
          "type": "left_retrieval",
          "variance": 0.866803594541567
         },
         {
          "type": "left_retrieval",
          "variance": 0.8529128337468697
         },
         {
          "type": "left_retrieval",
          "variance": 0.8592709554036958
         },
         {
          "type": "left_retrieval",
          "variance": 0.7411964265777327
         },
         {
          "type": "left_retrieval",
          "variance": 0.842852909785582
         },
         {
          "type": "left_retrieval",
          "variance": 0.7292872442685204
         },
         {
          "type": "left_retrieval",
          "variance": 0.8695239805603849
         },
         {
          "type": "left_retrieval",
          "variance": 0.8332224747642669
         },
         {
          "type": "left_retrieval",
          "variance": 0.7688691732365087
         },
         {
          "type": "left_retrieval",
          "variance": 0.6643337566595158
         },
         {
          "type": "left_retrieval",
          "variance": 0.8221718404146703
         },
         {
          "type": "left_retrieval",
          "variance": 0.8918817219993906
         },
         {
          "type": "left_retrieval",
          "variance": 0.83844014604833
         },
         {
          "type": "left_retrieval",
          "variance": 0.8574552877405525
         },
         {
          "type": "left_retrieval",
          "variance": 0.7710168198349753
         },
         {
          "type": "left_retrieval",
          "variance": 0.7790994798370515
         },
         {
          "type": "left_retrieval",
          "variance": 0.8308119443638007
         },
         {
          "type": "left_retrieval",
          "variance": 0.8518948818100771
         },
         {
          "type": "left_retrieval",
          "variance": 0.8174274037752112
         },
         {
          "type": "left_retrieval",
          "variance": 0.8389562245695182
         },
         {
          "type": "left_retrieval",
          "variance": 0.8587999359747138
         },
         {
          "type": "left_retrieval",
          "variance": 0.7617291983829495
         },
         {
          "type": "left_retrieval",
          "variance": 0.8489456016755039
         },
         {
          "type": "left_retrieval",
          "variance": 0.914921993171622
         },
         {
          "type": "left_retrieval",
          "variance": 0.7635826428266338
         },
         {
          "type": "left_manual",
          "variance": 0.8206791445907351
         },
         {
          "type": "left_manual",
          "variance": 0.9320168358951773
         },
         {
          "type": "left_manual",
          "variance": 0.8502030269740702
         },
         {
          "type": "left_manual",
          "variance": 0.9139155484475848
         },
         {
          "type": "left_manual",
          "variance": 0.9078091839233694
         },
         {
          "type": "left_manual",
          "variance": 0.9169473540790566
         },
         {
          "type": "left_manual",
          "variance": 0.9134308448232727
         },
         {
          "type": "left_manual",
          "variance": 0.8902758414542079
         },
         {
          "type": "left_manual",
          "variance": 0.7527555852484301
         },
         {
          "type": "left_manual",
          "variance": 0.8784890739195552
         },
         {
          "type": "left_manual",
          "variance": 0.9305723682811602
         },
         {
          "type": "left_manual",
          "variance": 0.8512210073033158
         },
         {
          "type": "left_manual",
          "variance": 0.9123296723736602
         },
         {
          "type": "left_manual",
          "variance": 0.9031142694079376
         },
         {
          "type": "left_manual",
          "variance": 0.9127006622402052
         },
         {
          "type": "left_manual",
          "variance": 0.8571655612509013
         },
         {
          "type": "left_manual",
          "variance": 0.8687441701450391
         },
         {
          "type": "left_manual",
          "variance": 0.8736093398609606
         },
         {
          "type": "left_manual",
          "variance": 0.9028197127098142
         },
         {
          "type": "left_manual",
          "variance": 0.8305812025797145
         },
         {
          "type": "left_manual",
          "variance": 0.8869013586323992
         },
         {
          "type": "left_manual",
          "variance": 0.8498801760032191
         },
         {
          "type": "left_manual",
          "variance": 0.9036949228691052
         },
         {
          "type": "left_manual",
          "variance": 0.8037502603070528
         },
         {
          "type": "left_manual",
          "variance": 0.9045568272895418
         },
         {
          "type": "left_manual",
          "variance": 0.8051592178277329
         },
         {
          "type": "left_manual",
          "variance": 0.8809870260509078
         },
         {
          "type": "left_manual",
          "variance": 0.7372571380573082
         },
         {
          "type": "right_visual",
          "variance": 0.6612165092869743
         },
         {
          "type": "right_visual",
          "variance": 0.8364145201169558
         },
         {
          "type": "right_visual",
          "variance": 0.8179378591370493
         },
         {
          "type": "right_visual",
          "variance": 0.7801613288565412
         },
         {
          "type": "right_visual",
          "variance": 0.7776186608293775
         },
         {
          "type": "right_visual",
          "variance": 0.7917635369396202
         },
         {
          "type": "right_visual",
          "variance": 0.7560502340777007
         },
         {
          "type": "right_visual",
          "variance": 0.6660229586315181
         },
         {
          "type": "right_visual",
          "variance": 0.7634710448201429
         },
         {
          "type": "right_visual",
          "variance": 0.8549519416887221
         },
         {
          "type": "right_visual",
          "variance": 0.7464697795362703
         },
         {
          "type": "right_visual",
          "variance": 0.9038641428877534
         },
         {
          "type": "right_visual",
          "variance": 0.7814871894918192
         },
         {
          "type": "right_visual",
          "variance": 0.8462755297767353
         },
         {
          "type": "right_visual",
          "variance": 0.8002767238617604
         },
         {
          "type": "right_visual",
          "variance": 0.8796739318869916
         },
         {
          "type": "right_visual",
          "variance": 0.8780990940424573
         },
         {
          "type": "right_visual",
          "variance": 0.41591352470920506
         },
         {
          "type": "right_visual",
          "variance": 0.8206826090359226
         },
         {
          "type": "right_visual",
          "variance": 0.8926669968940673
         },
         {
          "type": "right_visual",
          "variance": 0.8460509770729715
         },
         {
          "type": "right_visual",
          "variance": 0.7480219517693398
         },
         {
          "type": "right_visual",
          "variance": 0.7744825909027337
         },
         {
          "type": "right_visual",
          "variance": 0.7407696715065767
         },
         {
          "type": "right_visual",
          "variance": 0.8009656419099527
         },
         {
          "type": "right_visual",
          "variance": 0.8984916097682384
         },
         {
          "type": "right_visual",
          "variance": 0.7844379609524845
         },
         {
          "type": "right_visual",
          "variance": 0.6876960731526136
         },
         {
          "type": "left_visual",
          "variance": 0.6969235816698683
         },
         {
          "type": "left_visual",
          "variance": 0.9475827152729548
         },
         {
          "type": "left_visual",
          "variance": 0.7525941434779941
         },
         {
          "type": "left_visual",
          "variance": 0.8446051798172367
         },
         {
          "type": "left_visual",
          "variance": 0.7165805222967148
         },
         {
          "type": "left_visual",
          "variance": 0.7760214200667281
         },
         {
          "type": "left_visual",
          "variance": 0.7826867829529452
         },
         {
          "type": "left_visual",
          "variance": 0.8781157772308263
         },
         {
          "type": "left_visual",
          "variance": 0.7702518680173569
         },
         {
          "type": "left_visual",
          "variance": 0.8803041589197362
         },
         {
          "type": "left_visual",
          "variance": 0.9377874549047625
         },
         {
          "type": "left_visual",
          "variance": 0.5686015074179344
         },
         {
          "type": "left_visual",
          "variance": 0.4616488350223429
         },
         {
          "type": "left_visual",
          "variance": 0.8377375158175816
         },
         {
          "type": "left_visual",
          "variance": 0.7967913553708909
         },
         {
          "type": "left_visual",
          "variance": 0.8773788610827189
         },
         {
          "type": "left_visual",
          "variance": 0.8513391687815071
         },
         {
          "type": "left_visual",
          "variance": 0.8961824137439872
         },
         {
          "type": "left_visual",
          "variance": 0.8371990264435496
         },
         {
          "type": "left_visual",
          "variance": 0.8348838600368202
         },
         {
          "type": "left_visual",
          "variance": 0.8746811669334486
         },
         {
          "type": "left_visual",
          "variance": 0.5939111957814129
         },
         {
          "type": "left_visual",
          "variance": 0.8976888477364147
         },
         {
          "type": "left_visual",
          "variance": 0.8147720914103733
         },
         {
          "type": "left_visual",
          "variance": 0.8016754588032309
         },
         {
          "type": "left_visual",
          "variance": 0.8349705062173229
         },
         {
          "type": "left_visual",
          "variance": 0.8183157953207219
         },
         {
          "type": "left_visual",
          "variance": 0.6959213468531621
         },
         {
          "type": "right_retrieval",
          "variance": 0.7409647456754186
         },
         {
          "type": "right_retrieval",
          "variance": 0.7528739729463153
         },
         {
          "type": "right_retrieval",
          "variance": 0.8398669602172973
         },
         {
          "type": "right_retrieval",
          "variance": 0.844013029558793
         },
         {
          "type": "right_retrieval",
          "variance": 0.8518404092176309
         },
         {
          "type": "right_retrieval",
          "variance": 0.9184502576523428
         },
         {
          "type": "right_retrieval",
          "variance": 0.8129179454240891
         },
         {
          "type": "right_retrieval",
          "variance": 0.8103423855095011
         },
         {
          "type": "right_retrieval",
          "variance": 0.7831626643359327
         },
         {
          "type": "right_retrieval",
          "variance": 0.6924184710234562
         },
         {
          "type": "right_retrieval",
          "variance": 0.8223135701827274
         },
         {
          "type": "right_retrieval",
          "variance": 0.7598399057226741
         },
         {
          "type": "right_retrieval",
          "variance": 0.47514678982393704
         },
         {
          "type": "right_retrieval",
          "variance": 0.8138558585483583
         },
         {
          "type": "right_retrieval",
          "variance": 0.8607688970801565
         },
         {
          "type": "right_retrieval",
          "variance": 0.8534432663963893
         },
         {
          "type": "right_retrieval",
          "variance": 0.8871391500134922
         },
         {
          "type": "right_retrieval",
          "variance": 0.7492384801008009
         },
         {
          "type": "right_retrieval",
          "variance": 0.8598035043754193
         },
         {
          "type": "right_retrieval",
          "variance": 0.8483173587908573
         },
         {
          "type": "right_retrieval",
          "variance": 0.7541050205693774
         },
         {
          "type": "right_retrieval",
          "variance": 0.7896524634643813
         },
         {
          "type": "right_retrieval",
          "variance": 0.8448475676720328
         },
         {
          "type": "right_retrieval",
          "variance": 0.8199530183135393
         },
         {
          "type": "right_retrieval",
          "variance": 0.6390697940246848
         },
         {
          "type": "right_retrieval",
          "variance": 0.8358876567307376
         },
         {
          "type": "right_retrieval",
          "variance": 0.8681259237514656
         },
         {
          "type": "right_retrieval",
          "variance": 0.8163228388697688
         },
         {
          "type": "right_manual",
          "variance": 0.7872676151968659
         },
         {
          "type": "right_manual",
          "variance": 0.916768490240822
         },
         {
          "type": "right_manual",
          "variance": 0.9036548443243188
         },
         {
          "type": "right_manual",
          "variance": 0.8563355727519334
         },
         {
          "type": "right_manual",
          "variance": 0.8179630962823854
         },
         {
          "type": "right_manual",
          "variance": 0.9282318405759236
         },
         {
          "type": "right_manual",
          "variance": 0.7657453747471744
         },
         {
          "type": "right_manual",
          "variance": 0.8742172541194397
         },
         {
          "type": "right_manual",
          "variance": 0.8146113161217451
         },
         {
          "type": "right_manual",
          "variance": 0.8512373206621229
         },
         {
          "type": "right_manual",
          "variance": 0.9063946895924052
         },
         {
          "type": "right_manual",
          "variance": 0.8943008254931436
         },
         {
          "type": "right_manual",
          "variance": 0.7210886795121719
         },
         {
          "type": "right_manual",
          "variance": 0.8217670677856709
         },
         {
          "type": "right_manual",
          "variance": 0.8093211005897153
         },
         {
          "type": "right_manual",
          "variance": 0.7653001626372541
         },
         {
          "type": "right_manual",
          "variance": 0.8855788243381432
         },
         {
          "type": "right_manual",
          "variance": 0.5700582715511125
         },
         {
          "type": "right_manual",
          "variance": 0.920453198273632
         },
         {
          "type": "right_manual",
          "variance": 0.8513041455797966
         },
         {
          "type": "right_manual",
          "variance": 0.7870762527645313
         },
         {
          "type": "right_manual",
          "variance": 0.8191183772371983
         },
         {
          "type": "right_manual",
          "variance": 0.8662259042496103
         },
         {
          "type": "right_manual",
          "variance": 0.8542803263381746
         },
         {
          "type": "right_manual",
          "variance": 0.8476676515946321
         },
         {
          "type": "right_manual",
          "variance": 0.7972845019539575
         },
         {
          "type": "right_manual",
          "variance": 0.8734280682221889
         },
         {
          "type": "right_manual",
          "variance": 0.7015318192918902
         }
        ]
       },
       "layer": [
        {
         "data": {
          "name": "data-277cf55920df78599c442bc413ab8450"
         },
         "encoding": {
          "x": {
           "field": "type",
           "type": "nominal"
          },
          "y": {
           "aggregate": "mean",
           "field": "variance",
           "type": "quantitative"
          }
         },
         "height": 300,
         "mark": "bar",
         "width": 600
        },
        {
         "data": {
          "name": "data-277cf55920df78599c442bc413ab8450"
         },
         "encoding": {
          "x": {
           "field": "type",
           "type": "nominal"
          },
          "y": {
           "aggregate": "ci0",
           "field": "variance",
           "type": "quantitative"
          },
          "y2": {
           "aggregate": "ci1",
           "field": "variance",
           "type": "quantitative"
          }
         },
         "height": 300,
         "mark": {
          "color": "gray",
          "strokeWidth": 2,
          "type": "rule"
         },
         "width": 600
        }
       ]
      },
      "image/png": "[encoded data removed]",
      "text/plain": [
       "<VegaLite 2 object>\n",
       "\n",
       "If you see this message, it means the renderer has not been properly enabled\n",
       "for the frontend that you are using. For more information, see\n",
       "https://altair-viz.github.io/user_guide/troubleshooting.html\n"
      ]
     },
     "execution_count": 56,
     "metadata": {},
     "output_type": "execute_result"
    }
   ],
   "source": [
    "alt.layer(bars, errors)"
   ]
  },
  {
   "cell_type": "code",
   "execution_count": null,
   "metadata": {},
   "outputs": [],
   "source": []
  }
 ],
 "metadata": {
  "kernelspec": {
   "display_name": "Python 3",
   "language": "python",
   "name": "python3"
  },
  "language_info": {
   "codemirror_mode": {
    "name": "ipython",
    "version": 3
   },
   "file_extension": ".py",
   "mimetype": "text/x-python",
   "name": "python",
   "nbconvert_exporter": "python",
   "pygments_lexer": "ipython3",
   "version": "3.6.4"
  }
 },
 "nbformat": 4,
 "nbformat_minor": 2
}
