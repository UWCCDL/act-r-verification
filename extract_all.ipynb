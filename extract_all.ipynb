{
 "cells": [
  {
   "cell_type": "markdown",
   "metadata": {},
   "source": [
    "# Extract all data"
   ]
  },
  {
   "cell_type": "code",
   "execution_count": 40,
   "metadata": {},
   "outputs": [],
   "source": [
    "import os\n",
    "import numpy as np\n",
    "import pandas as pd\n",
    "from nilearn import image\n",
    "from nilearn.image import load_img\n",
    "from nilearn.masking import apply_mask\n",
    "from sklearn.preprocessing import StandardScaler\n",
    "from sklearn.decomposition import PCA"
   ]
  },
  {
   "cell_type": "code",
   "execution_count": 22,
   "metadata": {},
   "outputs": [],
   "source": [
    "subjs = [i for i in os.listdir(\"data\") if i.startswith(\"sub-\")]"
   ]
  },
  {
   "cell_type": "code",
   "execution_count": 23,
   "metadata": {},
   "outputs": [],
   "source": [
    "rois = [i for i in os.listdir(\"ROIs\") if i.endswith(\"nii.gz\")]"
   ]
  },
  {
   "cell_type": "code",
   "execution_count": 24,
   "metadata": {},
   "outputs": [],
   "source": [
    "roi_masks = [image.load_img(os.path.join(\"ROIs\", roi)) for roi in rois]"
   ]
  },
  {
   "cell_type": "code",
   "execution_count": 49,
   "metadata": {},
   "outputs": [],
   "source": [
    "def extract_pca_component(img, mask):\n",
    "    # extract ROI\n",
    "    data = apply_mask(img, image.index_img(mask, 0))\n",
    "    # normalized data\n",
    "    scaler = StandardScaler()\n",
    "    normalized = scaler.fit_transform(data)\n",
    "    # pca\n",
    "    pca = PCA(n_components=1)\n",
    "    pca.fit(normalized)\n",
    "    # force eigenvalue to be positive\n",
    "    if np.all(pca.components_ < 0):\n",
    "        pca.components_ = -1 * pca.components_\n",
    "    projected = pca.transform(data)\n",
    "    # variance \n",
    "    var_projected = np.sum(np.var(projected, axis=0))\n",
    "    var_original = np.sum(np.var(data, axis=0)) \n",
    "    return projected, var_projected / var_original"
   ]
  },
  {
   "cell_type": "code",
   "execution_count": 50,
   "metadata": {},
   "outputs": [],
   "source": [
    "def create_time_series(subj, rois, roi_masks, roi_variance):\n",
    "    # write dataframe out to csv\n",
    "    img = image.load_img(os.path.join(\"data\", subj, \"func\", \"swa\" + subj + \"_task-stroop_bold.nii\"))\n",
    "    rois = [i for i in os.listdir(\"ROIs\") if i.endswith(\".nii.gz\")]\n",
    "    data = []\n",
    "    for idx, roi_mask in enumerate(roi_masks):\n",
    "        projected, var_percentage = extract_pca_component(img, roi_mask) \n",
    "        data.append(projected)\n",
    "        roi_variance[rois[idx]].append(var_percentage)\n",
    "\n",
    "    df = pd.DataFrame(np.column_stack(data), columns=rois)\n",
    "    df.to_csv(subj + \".csv\", index=None)"
   ]
  },
  {
   "cell_type": "code",
   "execution_count": 51,
   "metadata": {},
   "outputs": [],
   "source": [
    "roi_variance = {i:[] for i in rois}"
   ]
  },
  {
   "cell_type": "code",
   "execution_count": 52,
   "metadata": {},
   "outputs": [],
   "source": [
    "create_time_series(\"sub-003\", rois, roi_masks, roi_variance)"
   ]
  },
  {
   "cell_type": "code",
   "execution_count": null,
   "metadata": {},
   "outputs": [],
   "source": []
  }
 ],
 "metadata": {
  "kernelspec": {
   "display_name": "Python 3",
   "language": "python",
   "name": "python3"
  },
  "language_info": {
   "codemirror_mode": {
    "name": "ipython",
    "version": 3
   },
   "file_extension": ".py",
   "mimetype": "text/x-python",
   "name": "python",
   "nbconvert_exporter": "python",
   "pygments_lexer": "ipython3",
   "version": "3.6.4"
  }
 },
 "nbformat": 4,
 "nbformat_minor": 2
}
